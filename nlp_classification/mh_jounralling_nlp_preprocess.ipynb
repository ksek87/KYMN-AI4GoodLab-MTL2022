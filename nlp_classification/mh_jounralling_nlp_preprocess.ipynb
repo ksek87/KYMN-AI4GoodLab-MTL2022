{
  "nbformat": 4,
  "nbformat_minor": 0,
  "metadata": {
    "colab": {
      "name": "mh_jounralling_nlp_preprocess.ipynb",
      "provenance": [],
      "machine_shape": "hm",
      "collapsed_sections": []
    },
    "kernelspec": {
      "name": "python3",
      "display_name": "Python 3"
    },
    "language_info": {
      "name": "python"
    },
    "accelerator": "GPU"
  },
  "cells": [
    {
      "cell_type": "code",
      "source": [
        "# import libraries\n",
        "import csv\n",
        "import time\n",
        "import pandas as pd\n",
        "import os\n",
        "import sys\n",
        "import numpy as np\n",
        "import io\n",
        "from google.colab import files\n",
        "import gensim\n",
        "import nltk\n",
        "import re\n",
        "import seaborn as sns\n",
        "import matplotlib.pyplot as plt"
      ],
      "metadata": {
        "id": "9dEHT90tI4Z7"
      },
      "execution_count": 1,
      "outputs": []
    },
    {
      "cell_type": "code",
      "source": [
        "from google.colab import drive\n",
        "drive.mount('/content/drive')"
      ],
      "metadata": {
        "id": "Oi39ov56JDLV",
        "colab": {
          "base_uri": "https://localhost:8080/"
        },
        "outputId": "cd2a3fb8-ea06-45a3-a0fb-79160760a1f9"
      },
      "execution_count": 2,
      "outputs": [
        {
          "output_type": "stream",
          "name": "stdout",
          "text": [
            "Mounted at /content/drive\n"
          ]
        }
      ]
    },
    {
      "cell_type": "code",
      "execution_count": 3,
      "metadata": {
        "id": "uJSOEhUBI04c",
        "colab": {
          "base_uri": "https://localhost:8080/"
        },
        "outputId": "6edf8178-0fbd-4484-f699-c2e9ed835dcc"
      },
      "outputs": [
        {
          "output_type": "stream",
          "name": "stderr",
          "text": [
            "[nltk_data] Downloading package punkt to /root/nltk_data...\n",
            "[nltk_data]   Unzipping tokenizers/punkt.zip.\n",
            "[nltk_data] Downloading package stopwords to /root/nltk_data...\n",
            "[nltk_data]   Unzipping corpora/stopwords.zip.\n"
          ]
        },
        {
          "output_type": "execute_result",
          "data": {
            "text/plain": [
              "True"
            ]
          },
          "metadata": {},
          "execution_count": 3
        }
      ],
      "source": [
        "nltk.download('punkt')\n",
        "nltk.download('stopwords')"
      ]
    },
    {
      "cell_type": "code",
      "source": [
        "df = pd.read_csv('/content/drive/My Drive/dataset_merged_mh_journalling.csv', index_col=0)"
      ],
      "metadata": {
        "id": "Pp6TWIWdKJ8C"
      },
      "execution_count": 4,
      "outputs": []
    },
    {
      "cell_type": "code",
      "source": [
        "df.head()"
      ],
      "metadata": {
        "colab": {
          "base_uri": "https://localhost:8080/",
          "height": 206
        },
        "id": "Mv2uG4KBM_-F",
        "outputId": "5c24cf58-3a06-4b0a-9e32-6d5a3ffc5939"
      },
      "execution_count": null,
      "outputs": [
        {
          "output_type": "execute_result",
          "data": {
            "text/plain": [
              "                                                title  \\\n",
              "7                                    Suicidal Partner   \n",
              "10  Why does there always have to be a reason to f...   \n",
              "17  my friend's attempted and i dont know how to r...   \n",
              "20                                Im scared of myself   \n",
              "22                                 I dont want to die   \n",
              "\n",
              "                                             selftext    class  \n",
              "7   My boyfriend has been depressed and suicidal s...  Suicide  \n",
              "10  when im honest with my dad if im anxious depre...  Suicide  \n",
              "17  hi, i just got a suicidal note/message from a ...  Suicide  \n",
              "20  I literally think about it hourly. Im so hideo...  Suicide  \n",
              "22  But I dont really see a way out of this I have...  Suicide  "
            ],
            "text/html": [
              "\n",
              "  <div id=\"df-215f184e-cb2c-40a4-82d1-dddd1d6747f2\">\n",
              "    <div class=\"colab-df-container\">\n",
              "      <div>\n",
              "<style scoped>\n",
              "    .dataframe tbody tr th:only-of-type {\n",
              "        vertical-align: middle;\n",
              "    }\n",
              "\n",
              "    .dataframe tbody tr th {\n",
              "        vertical-align: top;\n",
              "    }\n",
              "\n",
              "    .dataframe thead th {\n",
              "        text-align: right;\n",
              "    }\n",
              "</style>\n",
              "<table border=\"1\" class=\"dataframe\">\n",
              "  <thead>\n",
              "    <tr style=\"text-align: right;\">\n",
              "      <th></th>\n",
              "      <th>title</th>\n",
              "      <th>selftext</th>\n",
              "      <th>class</th>\n",
              "    </tr>\n",
              "  </thead>\n",
              "  <tbody>\n",
              "    <tr>\n",
              "      <th>7</th>\n",
              "      <td>Suicidal Partner</td>\n",
              "      <td>My boyfriend has been depressed and suicidal s...</td>\n",
              "      <td>Suicide</td>\n",
              "    </tr>\n",
              "    <tr>\n",
              "      <th>10</th>\n",
              "      <td>Why does there always have to be a reason to f...</td>\n",
              "      <td>when im honest with my dad if im anxious depre...</td>\n",
              "      <td>Suicide</td>\n",
              "    </tr>\n",
              "    <tr>\n",
              "      <th>17</th>\n",
              "      <td>my friend's attempted and i dont know how to r...</td>\n",
              "      <td>hi, i just got a suicidal note/message from a ...</td>\n",
              "      <td>Suicide</td>\n",
              "    </tr>\n",
              "    <tr>\n",
              "      <th>20</th>\n",
              "      <td>Im scared of myself</td>\n",
              "      <td>I literally think about it hourly. Im so hideo...</td>\n",
              "      <td>Suicide</td>\n",
              "    </tr>\n",
              "    <tr>\n",
              "      <th>22</th>\n",
              "      <td>I dont want to die</td>\n",
              "      <td>But I dont really see a way out of this I have...</td>\n",
              "      <td>Suicide</td>\n",
              "    </tr>\n",
              "  </tbody>\n",
              "</table>\n",
              "</div>\n",
              "      <button class=\"colab-df-convert\" onclick=\"convertToInteractive('df-215f184e-cb2c-40a4-82d1-dddd1d6747f2')\"\n",
              "              title=\"Convert this dataframe to an interactive table.\"\n",
              "              style=\"display:none;\">\n",
              "        \n",
              "  <svg xmlns=\"http://www.w3.org/2000/svg\" height=\"24px\"viewBox=\"0 0 24 24\"\n",
              "       width=\"24px\">\n",
              "    <path d=\"M0 0h24v24H0V0z\" fill=\"none\"/>\n",
              "    <path d=\"M18.56 5.44l.94 2.06.94-2.06 2.06-.94-2.06-.94-.94-2.06-.94 2.06-2.06.94zm-11 1L8.5 8.5l.94-2.06 2.06-.94-2.06-.94L8.5 2.5l-.94 2.06-2.06.94zm10 10l.94 2.06.94-2.06 2.06-.94-2.06-.94-.94-2.06-.94 2.06-2.06.94z\"/><path d=\"M17.41 7.96l-1.37-1.37c-.4-.4-.92-.59-1.43-.59-.52 0-1.04.2-1.43.59L10.3 9.45l-7.72 7.72c-.78.78-.78 2.05 0 2.83L4 21.41c.39.39.9.59 1.41.59.51 0 1.02-.2 1.41-.59l7.78-7.78 2.81-2.81c.8-.78.8-2.07 0-2.86zM5.41 20L4 18.59l7.72-7.72 1.47 1.35L5.41 20z\"/>\n",
              "  </svg>\n",
              "      </button>\n",
              "      \n",
              "  <style>\n",
              "    .colab-df-container {\n",
              "      display:flex;\n",
              "      flex-wrap:wrap;\n",
              "      gap: 12px;\n",
              "    }\n",
              "\n",
              "    .colab-df-convert {\n",
              "      background-color: #E8F0FE;\n",
              "      border: none;\n",
              "      border-radius: 50%;\n",
              "      cursor: pointer;\n",
              "      display: none;\n",
              "      fill: #1967D2;\n",
              "      height: 32px;\n",
              "      padding: 0 0 0 0;\n",
              "      width: 32px;\n",
              "    }\n",
              "\n",
              "    .colab-df-convert:hover {\n",
              "      background-color: #E2EBFA;\n",
              "      box-shadow: 0px 1px 2px rgba(60, 64, 67, 0.3), 0px 1px 3px 1px rgba(60, 64, 67, 0.15);\n",
              "      fill: #174EA6;\n",
              "    }\n",
              "\n",
              "    [theme=dark] .colab-df-convert {\n",
              "      background-color: #3B4455;\n",
              "      fill: #D2E3FC;\n",
              "    }\n",
              "\n",
              "    [theme=dark] .colab-df-convert:hover {\n",
              "      background-color: #434B5C;\n",
              "      box-shadow: 0px 1px 3px 1px rgba(0, 0, 0, 0.15);\n",
              "      filter: drop-shadow(0px 1px 2px rgba(0, 0, 0, 0.3));\n",
              "      fill: #FFFFFF;\n",
              "    }\n",
              "  </style>\n",
              "\n",
              "      <script>\n",
              "        const buttonEl =\n",
              "          document.querySelector('#df-215f184e-cb2c-40a4-82d1-dddd1d6747f2 button.colab-df-convert');\n",
              "        buttonEl.style.display =\n",
              "          google.colab.kernel.accessAllowed ? 'block' : 'none';\n",
              "\n",
              "        async function convertToInteractive(key) {\n",
              "          const element = document.querySelector('#df-215f184e-cb2c-40a4-82d1-dddd1d6747f2');\n",
              "          const dataTable =\n",
              "            await google.colab.kernel.invokeFunction('convertToInteractive',\n",
              "                                                     [key], {});\n",
              "          if (!dataTable) return;\n",
              "\n",
              "          const docLinkHtml = 'Like what you see? Visit the ' +\n",
              "            '<a target=\"_blank\" href=https://colab.research.google.com/notebooks/data_table.ipynb>data table notebook</a>'\n",
              "            + ' to learn more about interactive tables.';\n",
              "          element.innerHTML = '';\n",
              "          dataTable['output_type'] = 'display_data';\n",
              "          await google.colab.output.renderOutput(dataTable, element);\n",
              "          const docLink = document.createElement('div');\n",
              "          docLink.innerHTML = docLinkHtml;\n",
              "          element.appendChild(docLink);\n",
              "        }\n",
              "      </script>\n",
              "    </div>\n",
              "  </div>\n",
              "  "
            ]
          },
          "metadata": {},
          "execution_count": 5
        }
      ]
    },
    {
      "cell_type": "code",
      "source": [
        "df['text'] = df['title'] + ' ' + df['selftext']\n",
        "df.drop(columns=['title' , 'selftext'], inplace=True)\n"
      ],
      "metadata": {
        "id": "IKkaBjy8NRJ_"
      },
      "execution_count": 5,
      "outputs": []
    },
    {
      "cell_type": "code",
      "source": [
        "df['text'] = df['text'].str.lower()\n"
      ],
      "metadata": {
        "id": "c8ARBFL8OPTc"
      },
      "execution_count": 6,
      "outputs": []
    },
    {
      "cell_type": "code",
      "source": [
        "df['text'] = df['text'].str.replace('https:\\S+|www.\\S+', '', case=False)\n"
      ],
      "metadata": {
        "colab": {
          "base_uri": "https://localhost:8080/"
        },
        "id": "ydWQDfmnO8QM",
        "outputId": "bb608eb4-3b26-4174-b9f0-dfaaf7151fb6"
      },
      "execution_count": 7,
      "outputs": [
        {
          "output_type": "stream",
          "name": "stderr",
          "text": [
            "/usr/local/lib/python3.7/dist-packages/ipykernel_launcher.py:1: FutureWarning: The default value of regex will change from True to False in a future version.\n",
            "  \"\"\"Entry point for launching an IPython kernel.\n"
          ]
        }
      ]
    },
    {
      "cell_type": "code",
      "source": [
        "df['text'] = df['text'].str.replace(r'[^\\x00-\\x7F]+', '', regex=True)\n"
      ],
      "metadata": {
        "id": "FUgdz5HEPvlz"
      },
      "execution_count": 8,
      "outputs": []
    },
    {
      "cell_type": "code",
      "source": [
        "df = df.dropna()"
      ],
      "metadata": {
        "id": "xTVG6aOiR-jQ"
      },
      "execution_count": 9,
      "outputs": []
    },
    {
      "cell_type": "code",
      "source": [
        "df['token_text'] = df['text'].apply(nltk.word_tokenize)\n"
      ],
      "metadata": {
        "id": "gRdI6bDRQU6z"
      },
      "execution_count": 10,
      "outputs": []
    },
    {
      "cell_type": "code",
      "source": [
        "stop_words = nltk.corpus.stopwords.words(\"english\")\n",
        "df['token_text'] = df['token_text'].apply(lambda x: [item for item in x if item not in stop_words] )\n"
      ],
      "metadata": {
        "id": "ScTlgMWnRGgi"
      },
      "execution_count": 11,
      "outputs": []
    },
    {
      "cell_type": "code",
      "source": [
        "# remove punctuation, non-letter characters\n",
        "df['token_text'] = df['token_text'].apply(lambda x: [item for item in x if re.match('[a-z]+', item)] )\n"
      ],
      "metadata": {
        "id": "YGcjqutTRGpO"
      },
      "execution_count": 12,
      "outputs": []
    },
    {
      "cell_type": "code",
      "source": [
        "df = df.dropna()"
      ],
      "metadata": {
        "id": "3jB3v6rn62W5"
      },
      "execution_count": 13,
      "outputs": []
    },
    {
      "cell_type": "code",
      "source": [
        "df.info()\n",
        "\n"
      ],
      "metadata": {
        "id": "DRLMhVpZV-CC",
        "colab": {
          "base_uri": "https://localhost:8080/"
        },
        "outputId": "1ee4f053-0cd7-4ca5-8c42-c3f8bedc69be"
      },
      "execution_count": null,
      "outputs": [
        {
          "output_type": "stream",
          "name": "stdout",
          "text": [
            "<class 'pandas.core.frame.DataFrame'>\n",
            "Int64Index: 612339 entries, 7 to 68971\n",
            "Data columns (total 3 columns):\n",
            " #   Column      Non-Null Count   Dtype \n",
            "---  ------      --------------   ----- \n",
            " 0   class       612339 non-null  object\n",
            " 1   text        612339 non-null  object\n",
            " 2   token_text  612339 non-null  object\n",
            "dtypes: object(3)\n",
            "memory usage: 18.7+ MB\n"
          ]
        }
      ]
    },
    {
      "cell_type": "code",
      "source": [
        "# class distribution\n",
        "plt.figure(figsize = (15,10))\n",
        "ax = sns.countplot(x='class',data=df)\n",
        "plt.title(\"Mental Heatlh Condition Class Distribution in Dataset\", size = 18)\n",
        "plt.xlabel(\"Class\", size = 12)\n",
        "plt.ylabel(\"Count\", size = 12)\n",
        "plt.show()"
      ],
      "metadata": {
        "colab": {
          "base_uri": "https://localhost:8080/",
          "height": 629
        },
        "id": "Jogxg11GV_D4",
        "outputId": "a8372266-9e6e-4794-f105-d48d27539304"
      },
      "execution_count": null,
      "outputs": [
        {
          "output_type": "display_data",
          "data": {
            "text/plain": [
              "<Figure size 1080x720 with 1 Axes>"
            ],
            "image/png": "[encoded data removed]"
          },
          "metadata": {
            "needs_background": "light"
          }
        }
      ]
    },
    {
      "cell_type": "code",
      "source": [
        "df['class'].value_counts()"
      ],
      "metadata": {
        "colab": {
          "base_uri": "https://localhost:8080/"
        },
        "id": "yGwhkI9VWDI8",
        "outputId": "ac3d9a79-a67f-4537-d150-5299e7ab05f6"
      },
      "execution_count": null,
      "outputs": [
        {
          "output_type": "execute_result",
          "data": {
            "text/plain": [
              "Depression         124738\n",
              "Suicide            117211\n",
              "Eating Disorder    115080\n",
              "Anxiety            114446\n",
              "none                67424\n",
              "PTSD                41797\n",
              "Body Dysmorphia     31643\n",
              "Name: class, dtype: int64"
            ]
          },
          "metadata": {},
          "execution_count": 16
        }
      ]
    },
    {
      "cell_type": "code",
      "source": [
        "# post tokenized text lengths\n",
        "length = [len(text) for text in df['token_text']]\n",
        "\n",
        "plt.figure(figsize = (15,10))\n",
        "plt.hist(length, bins=50)\n",
        "plt.title(\"Tokenize Text Length Distribution\", size = 18)\n",
        "plt.xlabel(\"Number of Tokens\")\n",
        "plt.ylabel(\"Number of Posts\")\n",
        "plt.show()"
      ],
      "metadata": {
        "colab": {
          "base_uri": "https://localhost:8080/",
          "height": 625
        },
        "id": "Wwm5LFgOWG9i",
        "outputId": "cec5ba23-a2ae-4f26-afc7-c285a806ad57"
      },
      "execution_count": null,
      "outputs": [
        {
          "output_type": "display_data",
          "data": {
            "text/plain": [
              "<Figure size 1080x720 with 1 Axes>"
            ],
            "image/png": "[encoded data removed]"
          },
          "metadata": {
            "needs_background": "light"
          }
        }
      ]
    },
    {
      "cell_type": "code",
      "source": [
        ""
      ],
      "metadata": {
        "id": "J9pPh91RaUeo"
      },
      "execution_count": null,
      "outputs": []
    },
    {
      "cell_type": "code",
      "source": [
        "from sklearn.preprocessing import LabelEncoder\n",
        "from sklearn.feature_extraction.text import TfidfVectorizer\n",
        "from sklearn import model_selection, svm\n",
        "from sklearn.metrics import accuracy_score\n",
        "import sklearn.metrics\n",
        "from sklearn.feature_extraction.text import TfidfVectorizer\n",
        "from sklearn.metrics                 import accuracy_score, recall_score, roc_auc_score, matthews_corrcoef"
      ],
      "metadata": {
        "id": "dcOWHfLVidSr"
      },
      "execution_count": 14,
      "outputs": []
    },
    {
      "cell_type": "code",
      "source": [
        "X = df['token_text'].astype(str)\n",
        "Y = df['class'].astype(str)"
      ],
      "metadata": {
        "id": "__4Z45D1ipj-"
      },
      "execution_count": 15,
      "outputs": []
    },
    {
      "cell_type": "code",
      "source": [
        "X_train, X_test, y_train, y_test = model_selection.train_test_split(X,Y,random_state = 42, test_size=0.2, stratify=Y)"
      ],
      "metadata": {
        "id": "PGVeYy6piurT"
      },
      "execution_count": 16,
      "outputs": []
    },
    {
      "cell_type": "code",
      "source": [
        "classes_names = [\n",
        "                 'Suicide',\n",
        "                 'Depression',\n",
        "                 'PTSD',\n",
        "                 'Anxiety',\n",
        "                 'Eating Disorder',\n",
        "                 'Body Dysmorphia'                 \n",
        "]"
      ],
      "metadata": {
        "id": "yWA-jAy4i06M"
      },
      "execution_count": 17,
      "outputs": []
    },
    {
      "cell_type": "code",
      "source": [
        "encoder = LabelEncoder()\n",
        "encoder.fit(classes_names)\n",
        "y_train_enc = encoder.fit_transform(y_train)\n",
        "y_test_enc = encoder.transform(y_test)\n",
        "print(encoder.classes_)\n",
        "integer_mapping = {l: i for i, l in enumerate(encoder.classes_)}\n",
        "print(integer_mapping)"
      ],
      "metadata": {
        "colab": {
          "base_uri": "https://localhost:8080/"
        },
        "id": "LVwGeKdjjXL_",
        "outputId": "93d51828-8df6-4a1f-cb9d-eeaef282cd5b"
      },
      "execution_count": 18,
      "outputs": [
        {
          "output_type": "stream",
          "name": "stdout",
          "text": [
            "['Anxiety' 'Body Dysmorphia' 'Depression' 'Eating Disorder' 'PTSD'\n",
            " 'Suicide' 'none']\n",
            "{'Anxiety': 0, 'Body Dysmorphia': 1, 'Depression': 2, 'Eating Disorder': 3, 'PTSD': 4, 'Suicide': 5, 'none': 6}\n"
          ]
        }
      ]
    },
    {
      "cell_type": "code",
      "source": [
        "Tfidf_vect = TfidfVectorizer(max_features=5000)\n",
        "Tfidf_vect.fit(X)\n",
        "Train_X_trans = Tfidf_vect.transform(X_train)\n",
        "Test_X_trans = Tfidf_vect.transform(X_test)"
      ],
      "metadata": {
        "id": "YpKC79VXjdI7"
      },
      "execution_count": null,
      "outputs": []
    },
    {
      "cell_type": "code",
      "source": [
        "vocab_dict = Tfidf_vect.vocabulary_\n",
        "x = sorted(vocab_dict.items(), key=lambda x: x[1], reverse=True)\n",
        "x"
      ],
      "metadata": {
        "colab": {
          "base_uri": "https://localhost:8080/"
        },
        "id": "jdPB-S1Bk3jx",
        "outputId": "4c1f7a46-80b4-4d8a-c12d-cf530ee85e97"
      },
      "execution_count": null,
      "outputs": [
        {
          "output_type": "execute_result",
          "data": {
            "text/plain": [
              "[('zoom', 4999),\n",
              " ('zone', 4998),\n",
              " ('zombie', 4997),\n",
              " ('zoloft', 4996),\n",
              " ('zero', 4995),\n",
              " ('ysk', 4994),\n",
              " ('yrs', 4993),\n",
              " ('yr', 4992),\n",
              " ('youve', 4991),\n",
              " ('youtube', 4990),\n",
              " ('youth', 4989),\n",
              " ('youre', 4988),\n",
              " ('youngest', 4987),\n",
              " ('younger', 4986),\n",
              " ('young', 4985),\n",
              " ('youll', 4984),\n",
              " ('youd', 4983),\n",
              " ('you', 4982),\n",
              " ('yogurt', 4981),\n",
              " ('yoga', 4980),\n",
              " ('yo', 4979),\n",
              " ('yet', 4978),\n",
              " ('yesterday', 4977),\n",
              " ('yes', 4976),\n",
              " ('yells', 4975),\n",
              " ('yellow', 4974),\n",
              " ('yelling', 4973),\n",
              " ('yelled', 4972),\n",
              " ('yell', 4971),\n",
              " ('years', 4970),\n",
              " ('year', 4969),\n",
              " ('yeah', 4968),\n",
              " ('yea', 4967),\n",
              " ('yay', 4966),\n",
              " ('yall', 4965),\n",
              " ('ya', 4964),\n",
              " ('xanax', 4963),\n",
              " ('x200b', 4962),\n",
              " ('wtf', 4961),\n",
              " ('wrote', 4960),\n",
              " ('wrong', 4959),\n",
              " ('written', 4958),\n",
              " ('writing', 4957),\n",
              " ('write', 4956),\n",
              " ('wrists', 4955),\n",
              " ('wrist', 4954),\n",
              " ('wreck', 4953),\n",
              " ('wrapped', 4952),\n",
              " ('wrap', 4951),\n",
              " ('wow', 4950),\n",
              " ('wounds', 4949),\n",
              " ('wound', 4948),\n",
              " ('wouldve', 4947),\n",
              " ('wouldnt', 4946),\n",
              " ('would', 4945),\n",
              " ('worthy', 4944),\n",
              " ('worthless', 4943),\n",
              " ('worth', 4942),\n",
              " ('worst', 4941),\n",
              " ('worsening', 4940),\n",
              " ('worsened', 4939),\n",
              " ('worse', 4938),\n",
              " ('worrying', 4937),\n",
              " ('worry', 4936),\n",
              " ('worries', 4935),\n",
              " ('worried', 4934),\n",
              " ('worn', 4933),\n",
              " ('world', 4932),\n",
              " ('works', 4931),\n",
              " ('workplace', 4930),\n",
              " ('workouts', 4929),\n",
              " ('workout', 4928),\n",
              " ('working', 4927),\n",
              " ('workers', 4926),\n",
              " ('worker', 4925),\n",
              " ('worked', 4924),\n",
              " ('work', 4923),\n",
              " ('wore', 4922),\n",
              " ('words', 4921),\n",
              " ('word', 4920),\n",
              " ('woods', 4919),\n",
              " ('wood', 4918),\n",
              " ('wont', 4917),\n",
              " ('wonders', 4916),\n",
              " ('wondering', 4915),\n",
              " ('wonderful', 4914),\n",
              " ('wondered', 4913),\n",
              " ('wonder', 4912),\n",
              " ('women', 4911),\n",
              " ('woman', 4910),\n",
              " ('woken', 4909),\n",
              " ('woke', 4908),\n",
              " ('wok', 4907),\n",
              " ('wo', 4906),\n",
              " ('witnessed', 4905),\n",
              " ('witness', 4904),\n",
              " ('without', 4903),\n",
              " ('within', 4902),\n",
              " ('withdrawals', 4901),\n",
              " ('withdrawal', 4900),\n",
              " ('wishing', 4899),\n",
              " ('wishes', 4898),\n",
              " ('wished', 4897),\n",
              " ('wish', 4896),\n",
              " ('wise', 4895),\n",
              " ('wisdom', 4894),\n",
              " ('winter', 4893),\n",
              " ('wins', 4892),\n",
              " ('winning', 4891),\n",
              " ('wings', 4890),\n",
              " ('wine', 4889),\n",
              " ('windows', 4888),\n",
              " ('window', 4887),\n",
              " ('wind', 4886),\n",
              " ('win', 4885),\n",
              " ('willpower', 4884),\n",
              " ('willing', 4883),\n",
              " ('wild', 4882),\n",
              " ('wiki', 4881),\n",
              " ('wife', 4880),\n",
              " ('wide', 4879),\n",
              " ('whose', 4878),\n",
              " ('whos', 4877),\n",
              " ('whole', 4876),\n",
              " ('whoever', 4875),\n",
              " ('white', 4874),\n",
              " ('whilst', 4873),\n",
              " ('whether', 4872),\n",
              " ('wherever', 4871),\n",
              " ('whereas', 4870),\n",
              " ('whenever', 4869),\n",
              " ('wheel', 4868),\n",
              " ('whatsoever', 4867),\n",
              " ('whats', 4866),\n",
              " ('whatnot', 4865),\n",
              " ('whatever', 4864),\n",
              " ('what', 4863),\n",
              " ('weve', 4862),\n",
              " ('wet', 4861),\n",
              " ('werent', 4860),\n",
              " ('went', 4859),\n",
              " ('wellbutrin', 4858),\n",
              " ('well', 4857),\n",
              " ('welcome', 4856),\n",
              " ('weirdly', 4855),\n",
              " ('weird', 4854),\n",
              " ('weights', 4853),\n",
              " ('weight', 4852),\n",
              " ('weighs', 4851),\n",
              " ('weighing', 4850),\n",
              " ('weighed', 4849),\n",
              " ('weigh', 4848),\n",
              " ('weeks', 4847),\n",
              " ('weekly', 4846),\n",
              " ('weekends', 4845),\n",
              " ('weekend', 4844),\n",
              " ('week', 4843),\n",
              " ('weed', 4842),\n",
              " ('wednesday', 4841),\n",
              " ('wedding', 4840),\n",
              " ('wed', 4839),\n",
              " ('websites', 4838),\n",
              " ('website', 4837),\n",
              " ('web', 4836),\n",
              " ('weather', 4835),\n",
              " ('wearing', 4834),\n",
              " ('wear', 4833),\n",
              " ('weakness', 4832),\n",
              " ('weak', 4831),\n",
              " ('ways', 4830),\n",
              " ('way', 4829),\n",
              " ('waves', 4828),\n",
              " ('wave', 4827),\n",
              " ('water', 4826),\n",
              " ('watching', 4825),\n",
              " ('watched', 4824),\n",
              " ('watch', 4823),\n",
              " ('wasting', 4822),\n",
              " ('wasted', 4821),\n",
              " ('waste', 4820),\n",
              " ('wasnt', 4819),\n",
              " ('washing', 4818),\n",
              " ('washed', 4817),\n",
              " ('wash', 4816),\n",
              " ('warning', 4815),\n",
              " ('warm', 4814),\n",
              " ('ward', 4813),\n",
              " ('war', 4812),\n",
              " ('wants', 4811),\n",
              " ('wanting', 4810),\n",
              " ('wanted', 4809),\n",
              " ('want', 4808),\n",
              " ('wan', 4807),\n",
              " ('walmart', 4806),\n",
              " ('walls', 4805),\n",
              " ('wall', 4804),\n",
              " ('walks', 4803),\n",
              " ('walking', 4802),\n",
              " ('walked', 4801),\n",
              " ('walk', 4800),\n",
              " ('waking', 4799),\n",
              " ('wake', 4798),\n",
              " ('waiting', 4797),\n",
              " ('waited', 4796),\n",
              " ('wait', 4795),\n",
              " ('waist', 4794),\n",
              " ('wage', 4793),\n",
              " ('vulnerable', 4792),\n",
              " ('vs', 4791),\n",
              " ('vomiting', 4790),\n",
              " ('vomit', 4789),\n",
              " ('volume', 4788),\n",
              " ('void', 4787),\n",
              " ('voices', 4786),\n",
              " ('voice', 4785),\n",
              " ('vodka', 4784),\n",
              " ('vivid', 4783),\n",
              " ('vitamins', 4782),\n",
              " ('vitamin', 4781),\n",
              " ('visual', 4780),\n",
              " ('visits', 4779),\n",
              " ('visiting', 4778),\n",
              " ('visited', 4777),\n",
              " ('visit', 4776),\n",
              " ('vision', 4775),\n",
              " ('visible', 4774),\n",
              " ('virus', 4773),\n",
              " ('virtually', 4772),\n",
              " ('virtual', 4771),\n",
              " ('virgin', 4770),\n",
              " ('violently', 4769),\n",
              " ('violent', 4768),\n",
              " ('violence', 4767),\n",
              " ('vinegar', 4766),\n",
              " ('views', 4765),\n",
              " ('view', 4764),\n",
              " ('videos', 4763),\n",
              " ('videogames', 4762),\n",
              " ('video', 4761),\n",
              " ('victory', 4760),\n",
              " ('victims', 4759),\n",
              " ('victim', 4758),\n",
              " ('vicious', 4757),\n",
              " ('vibes', 4756),\n",
              " ('vibe', 4755),\n",
              " ('via', 4754),\n",
              " ('veterans', 4753),\n",
              " ('vet', 4752),\n",
              " ('version', 4751),\n",
              " ('verge', 4750),\n",
              " ('verbally', 4749),\n",
              " ('verbal', 4748),\n",
              " ('venting', 4747),\n",
              " ('vent', 4746),\n",
              " ('veins', 4745),\n",
              " ('vehicle', 4744),\n",
              " ('veggies', 4743),\n",
              " ('veggie', 4742),\n",
              " ('vegetarian', 4741),\n",
              " ('vegetables', 4740),\n",
              " ('vegetable', 4739),\n",
              " ('vegan', 4738),\n",
              " ('various', 4737),\n",
              " ('variety', 4736),\n",
              " ('vanilla', 4735),\n",
              " ('values', 4734),\n",
              " ('value', 4733),\n",
              " ('valuable', 4732),\n",
              " ('validation', 4731),\n",
              " ('validated', 4730),\n",
              " ('valid', 4729),\n",
              " ('vain', 4728),\n",
              " ('vague', 4727),\n",
              " ('vaccine', 4726),\n",
              " ('vaccinated', 4725),\n",
              " ('vacation', 4724),\n",
              " ('uw', 4723),\n",
              " ('utterly', 4722),\n",
              " ('utter', 4721),\n",
              " ('usually', 4720),\n",
              " ('usual', 4719),\n",
              " ('using', 4718),\n",
              " ('uses', 4717),\n",
              " ('users', 4716),\n",
              " ('username', 4715),\n",
              " ('user', 4714),\n",
              " ('useless', 4713),\n",
              " ('useful', 4712),\n",
              " ('used', 4711),\n",
              " ('use', 4710),\n",
              " ('usa', 4709),\n",
              " ('us', 4708),\n",
              " ('urges', 4707),\n",
              " ('urgent', 4706),\n",
              " ('urge', 4705),\n",
              " ('ur', 4704),\n",
              " ('upstairs', 4703),\n",
              " ('upsetting', 4702),\n",
              " ('upset', 4701),\n",
              " ('ups', 4700),\n",
              " ('upper', 4699),\n",
              " ('upped', 4698),\n",
              " ('upon', 4697),\n",
              " ('update', 4696),\n",
              " ('upcoming', 4695),\n",
              " ('up', 4694),\n",
              " ('unworthy', 4693),\n",
              " ('unwell', 4692),\n",
              " ('unwanted', 4691),\n",
              " ('unusual', 4690),\n",
              " ('unsure', 4689),\n",
              " ('unstable', 4688),\n",
              " ('unsafe', 4687),\n",
              " ('unrelated', 4686),\n",
              " ('unrealistic', 4685),\n",
              " ('unpleasant', 4684),\n",
              " ('unnecessary', 4683),\n",
              " ('unmotivated', 4682),\n",
              " ('unloved', 4681),\n",
              " ('unlovable', 4680),\n",
              " ('unlikely', 4679),\n",
              " ('unlike', 4678),\n",
              " ('unless', 4677),\n",
              " ('unknown', 4676),\n",
              " ('university', 4675),\n",
              " ('universe', 4674),\n",
              " ('united', 4673),\n",
              " ('unit', 4672),\n",
              " ('unique', 4671),\n",
              " ('unintentionally', 4670),\n",
              " ('uni', 4669),\n",
              " ('unhealthy', 4668),\n",
              " ('unhappy', 4667),\n",
              " ('ungrateful', 4666),\n",
              " ('unfortunately', 4665),\n",
              " ('unfortunate', 4664),\n",
              " ('unfair', 4663),\n",
              " ('unexpected', 4662),\n",
              " ('unemployment', 4661),\n",
              " ('unemployed', 4660),\n",
              " ('uneasy', 4659),\n",
              " ('undiagnosed', 4658),\n",
              " ('underweight', 4657),\n",
              " ('understood', 4656),\n",
              " ('understands', 4655),\n",
              " ('understanding', 4654),\n",
              " ('understand', 4653),\n",
              " ('underneath', 4652),\n",
              " ('underlying', 4651),\n",
              " ('uncontrollably', 4650),\n",
              " ('uncontrollable', 4649),\n",
              " ('unconscious', 4648),\n",
              " ('uncomfortable', 4647),\n",
              " ('uncle', 4646),\n",
              " ('uncertainty', 4645),\n",
              " ('unbearable', 4644),\n",
              " ('unattractive', 4643),\n",
              " ('unable', 4642),\n",
              " ('un', 4641),\n",
              " ('ultimately', 4640),\n",
              " ('ultimate', 4639),\n",
              " ('uk', 4638),\n",
              " ('uh', 4637),\n",
              " ('ugw', 4636),\n",
              " ('ugly', 4635),\n",
              " ('ugh', 4634),\n",
              " ('uber', 4633),\n",
              " ('typing', 4632),\n",
              " ('typically', 4631),\n",
              " ('typical', 4630),\n",
              " ('types', 4629),\n",
              " ('type', 4628),\n",
              " ('two', 4627),\n",
              " ('twitter', 4626),\n",
              " ('twitching', 4625),\n",
              " ('twisted', 4624),\n",
              " ('twice', 4623),\n",
              " ('twenty', 4622),\n",
              " ('twenties', 4621),\n",
              " ('tw', 4620),\n",
              " ('tv', 4619),\n",
              " ('turns', 4618),\n",
              " ('turning', 4617),\n",
              " ('turned', 4616),\n",
              " ('turn', 4615),\n",
              " ('turkey', 4614),\n",
              " ('tunnel', 4613),\n",
              " ('tuna', 4612),\n",
              " ('tumor', 4611),\n",
              " ('tummy', 4610),\n",
              " ('tumblr', 4609),\n",
              " ('tuesday', 4608),\n",
              " ('tube', 4607),\n",
              " ('tsp', 4606),\n",
              " ('trying', 4605),\n",
              " ('try', 4604),\n",
              " ('truth', 4603),\n",
              " ('trusting', 4602),\n",
              " ('trusted', 4601),\n",
              " ('trust', 4600),\n",
              " ('truly', 4599),\n",
              " ('true', 4598),\n",
              " ('truck', 4597),\n",
              " ('troubles', 4596),\n",
              " ('trouble', 4595),\n",
              " ('trips', 4594),\n",
              " ('trip', 4593),\n",
              " ('triggers', 4592),\n",
              " ('triggering', 4591),\n",
              " ('triggered', 4590),\n",
              " ('trigger', 4589),\n",
              " ('tries', 4588),\n",
              " ('tried', 4587),\n",
              " ('tricks', 4586),\n",
              " ('trick', 4585),\n",
              " ('trial', 4584),\n",
              " ('tremors', 4583),\n",
              " ('trembling', 4582),\n",
              " ('tree', 4581),\n",
              " ('treats', 4580),\n",
              " ('treatments', 4579),\n",
              " ('treatment', 4578),\n",
              " ('treating', 4577),\n",
              " ('treated', 4576),\n",
              " ('treat', 4575),\n",
              " ('traveling', 4574),\n",
              " ('travel', 4573),\n",
              " ('traumatizing', 4572),\n",
              " ('traumatized', 4571),\n",
              " ('traumatic', 4570),\n",
              " ('traumas', 4569),\n",
              " ('trauma', 4568),\n",
              " ('trash', 4567),\n",
              " ('trapped', 4566),\n",
              " ('trap', 4565),\n",
              " ('transition', 4564),\n",
              " ('transfer', 4563),\n",
              " ('trans', 4562),\n",
              " ('traits', 4561),\n",
              " ('training', 4560),\n",
              " ('trained', 4559),\n",
              " ('train', 4558),\n",
              " ('traffic', 4557),\n",
              " ('traditional', 4556),\n",
              " ('trade', 4555),\n",
              " ('tracks', 4554),\n",
              " ('tracking', 4553),\n",
              " ('track', 4552),\n",
              " ('toxic', 4551),\n",
              " ('town', 4550),\n",
              " ('towel', 4549),\n",
              " ('towards', 4548),\n",
              " ('toward', 4547),\n",
              " ('tough', 4546),\n",
              " ('touching', 4545),\n",
              " ('touched', 4544),\n",
              " ('touch', 4543),\n",
              " ('totally', 4542),\n",
              " ('total', 4541),\n",
              " ('toss', 4540),\n",
              " ('tortured', 4539),\n",
              " ('torture', 4538),\n",
              " ('torn', 4537),\n",
              " ('topics', 4536),\n",
              " ('topic', 4535),\n",
              " ('top', 4534),\n",
              " ('tooth', 4533),\n",
              " ('tools', 4532),\n",
              " ('tool', 4531),\n",
              " ('took', 4530),\n",
              " ('tons', 4529),\n",
              " ('tonight', 4528),\n",
              " ('tongue', 4527),\n",
              " ('tone', 4526),\n",
              " ('ton', 4525),\n",
              " ('tomorrow', 4524),\n",
              " ('tomatoes', 4523),\n",
              " ('tomato', 4522),\n",
              " ('toll', 4521),\n",
              " ('tolerate', 4520),\n",
              " ('tolerance', 4519),\n",
              " ('told', 4518),\n",
              " ('toilet', 4517),\n",
              " ('together', 4516),\n",
              " ('tofu', 4515),\n",
              " ('toddler', 4514),\n",
              " ('today', 4513),\n",
              " ('toast', 4512),\n",
              " ('to', 4511),\n",
              " ('tmi', 4510),\n",
              " ('tldr', 4509),\n",
              " ('tl', 4508),\n",
              " ('title', 4507),\n",
              " ('tiring', 4506),\n",
              " ('tired', 4505),\n",
              " ('tips', 4504),\n",
              " ('tip', 4503),\n",
              " ('tiny', 4502),\n",
              " ('tinnitus', 4501),\n",
              " ('tingling', 4500),\n",
              " ('tinder', 4499),\n",
              " ('times', 4498),\n",
              " ('time', 4497),\n",
              " ('till', 4496),\n",
              " ('til', 4495),\n",
              " ('tiktok', 4494),\n",
              " ('tightness', 4493),\n",
              " ('tight', 4492),\n",
              " ('ties', 4491),\n",
              " ('tied', 4490),\n",
              " ('tie', 4489),\n",
              " ('tickets', 4488),\n",
              " ('ticket', 4487),\n",
              " ('thyroid', 4486),\n",
              " ('thus', 4485),\n",
              " ('thursday', 4484),\n",
              " ('thru', 4483),\n",
              " ('throws', 4482),\n",
              " ('thrown', 4481),\n",
              " ('throwing', 4480),\n",
              " ('throwaway', 4479),\n",
              " ('throw', 4478),\n",
              " ('throughout', 4477),\n",
              " ('throat', 4476),\n",
              " ('threw', 4475),\n",
              " ('three', 4474),\n",
              " ('threats', 4473),\n",
              " ('threatening', 4472),\n",
              " ('threatened', 4471),\n",
              " ('threaten', 4470),\n",
              " ('threat', 4469),\n",
              " ('thread', 4468),\n",
              " ('thousands', 4467),\n",
              " ('thousand', 4466),\n",
              " ('thoughts', 4465),\n",
              " ('thought', 4464),\n",
              " ('though', 4463),\n",
              " ('tho', 4462),\n",
              " ('this', 4461),\n",
              " ('third', 4460),\n",
              " ('thinspo', 4459),\n",
              " ('thinner', 4458),\n",
              " ('thinks', 4457),\n",
              " ('thinking', 4456),\n",
              " ('think', 4455),\n",
              " ('things', 4454),\n",
              " ('thing', 4453),\n",
              " ('thin', 4452),\n",
              " ('thighs', 4451),\n",
              " ('thigh', 4450),\n",
              " ('thick', 4449),\n",
              " ('theyve', 4448),\n",
              " ('theyre', 4447),\n",
              " ('theyll', 4446),\n",
              " ('theyd', 4445),\n",
              " ('theres', 4444),\n",
              " ('therefore', 4443),\n",
              " ('therapy', 4442),\n",
              " ('therapists', 4441),\n",
              " ('therapist', 4440),\n",
              " ('theory', 4439),\n",
              " ('theme', 4438),\n",
              " ('them', 4437),\n",
              " ('the', 4436),\n",
              " ('thats', 4435),\n",
              " ('thatll', 4434),\n",
              " ('that', 4433),\n",
              " ('thanksgiving', 4432),\n",
              " ('thanks', 4431),\n",
              " ('thankfully', 4430),\n",
              " ('thankful', 4429),\n",
              " ('thank', 4428),\n",
              " ('thai', 4427),\n",
              " ('tf', 4426),\n",
              " ('texture', 4425),\n",
              " ('texts', 4424),\n",
              " ('texting', 4423),\n",
              " ('texted', 4422),\n",
              " ('text', 4421),\n",
              " ('tests', 4420),\n",
              " ('testing', 4419),\n",
              " ('tested', 4418),\n",
              " ('test', 4417),\n",
              " ('terrors', 4416),\n",
              " ('terror', 4415),\n",
              " ('terrifying', 4414),\n",
              " ('terrifies', 4413),\n",
              " ('terrified', 4412),\n",
              " ('terribly', 4411),\n",
              " ('terrible', 4410),\n",
              " ('terms', 4409),\n",
              " ('terminal', 4408),\n",
              " ('term', 4407),\n",
              " ('tension', 4406),\n",
              " ('tense', 4405),\n",
              " ('tends', 4404),\n",
              " ('tender', 4403),\n",
              " ('tendencies', 4402),\n",
              " ('tend', 4401),\n",
              " ('ten', 4400),\n",
              " ('tempted', 4399),\n",
              " ('temporary', 4398),\n",
              " ('temporarily', 4397),\n",
              " ('temperature', 4396),\n",
              " ('temp', 4395),\n",
              " ('tells', 4394),\n",
              " ('telling', 4393),\n",
              " ('tell', 4392),\n",
              " ('teeth', 4391),\n",
              " ('teens', 4390),\n",
              " ('teenager', 4389),\n",
              " ('teenage', 4388),\n",
              " ('teen', 4387),\n",
              " ('technology', 4386),\n",
              " ('techniques', 4385),\n",
              " ('technique', 4384),\n",
              " ('technically', 4383),\n",
              " ('technical', 4382),\n",
              " ('tech', 4381),\n",
              " ('teaspoon', 4380),\n",
              " ('tears', 4379),\n",
              " ('tearing', 4378),\n",
              " ('tear', 4377),\n",
              " ('team', 4376),\n",
              " ('teaching', 4375),\n",
              " ('teachers', 4374),\n",
              " ('teacher', 4373),\n",
              " ('teach', 4372),\n",
              " ('tea', 4371),\n",
              " ('tdee', 4370),\n",
              " ('tbsp', 4369),\n",
              " ('tbh', 4368),\n",
              " ('tax', 4367),\n",
              " ('taught', 4366),\n",
              " ('tattoo', 4365),\n",
              " ('tasty', 4364),\n",
              " ('tastes', 4363),\n",
              " ('tasted', 4362),\n",
              " ('taste', 4361),\n",
              " ('tasks', 4360),\n",
              " ('task', 4359),\n",
              " ('target', 4358),\n",
              " ('tank', 4357),\n",
              " ('taller', 4356),\n",
              " ('tall', 4355),\n",
              " ('talks', 4354),\n",
              " ('talking', 4353),\n",
              " ('talked', 4352),\n",
              " ('talk', 4351),\n",
              " ('talented', 4350),\n",
              " ('talent', 4349),\n",
              " ('taking', 4348),\n",
              " ('takes', 4347),\n",
              " ('taken', 4346),\n",
              " ('take', 4345),\n",
              " ('tablets', 4344),\n",
              " ('table', 4343),\n",
              " ('ta', 4342),\n",
              " ('system', 4341),\n",
              " ('syrup', 4340),\n",
              " ('syndrome', 4339),\n",
              " ('symptoms', 4338),\n",
              " ('symptom', 4337),\n",
              " ('sympathy', 4336),\n",
              " ('swollen', 4335),\n",
              " ('switching', 4334),\n",
              " ('switched', 4333),\n",
              " ('switch', 4332),\n",
              " ('swings', 4331),\n",
              " ('swimming', 4330),\n",
              " ('swim', 4329),\n",
              " ('sweets', 4328),\n",
              " ('sweet', 4327),\n",
              " ('sweaty', 4326),\n",
              " ('sweats', 4325),\n",
              " ('sweating', 4324),\n",
              " ('sweat', 4323),\n",
              " ('swear', 4322),\n",
              " ('swallowing', 4321),\n",
              " ('swallow', 4320),\n",
              " ('suspicious', 4319),\n",
              " ('suspect', 4318),\n",
              " ('sushi', 4317),\n",
              " ('survivors', 4316),\n",
              " ('survivor', 4315),\n",
              " ('surviving', 4314),\n",
              " ('survived', 4313),\n",
              " ('survive', 4312),\n",
              " ('survival', 4311),\n",
              " ('surroundings', 4310),\n",
              " ('surrounding', 4309),\n",
              " ('surrounded', 4308),\n",
              " ('surprisingly', 4307),\n",
              " ('surprised', 4306),\n",
              " ('surprise', 4305),\n",
              " ('surgery', 4304),\n",
              " ('surgeries', 4303),\n",
              " ('surface', 4302),\n",
              " ('surely', 4301),\n",
              " ('sure', 4300),\n",
              " ('suppress', 4299),\n",
              " ('supposedly', 4298),\n",
              " ('supposed', 4297),\n",
              " ('suppose', 4296),\n",
              " ('supports', 4295),\n",
              " ('supportive', 4294),\n",
              " ('supporting', 4293),\n",
              " ('supported', 4292),\n",
              " ('support', 4291),\n",
              " ('supplements', 4290),\n",
              " ('supervisor', 4289),\n",
              " ('supermarket', 4288),\n",
              " ('super', 4287),\n",
              " ('sunday', 4286),\n",
              " ('sun', 4285),\n",
              " ('summer', 4284),\n",
              " ('sum', 4283),\n",
              " ('suit', 4282),\n",
              " ('suicide', 4281),\n",
              " ('suicidal', 4280),\n",
              " ('suggestions', 4279),\n",
              " ('suggestion', 4278),\n",
              " ('suggested', 4277),\n",
              " ('suggest', 4276),\n",
              " ('sugar', 4275),\n",
              " ('suffocating', 4274),\n",
              " ('suffers', 4273),\n",
              " ('suffering', 4272),\n",
              " ('suffered', 4271),\n",
              " ('suffer', 4270),\n",
              " ('suddenly', 4269),\n",
              " ('sudden', 4268),\n",
              " ('sucks', 4267),\n",
              " ('sucking', 4266),\n",
              " ('sucked', 4265),\n",
              " ('suck', 4264),\n",
              " ('successfully', 4263),\n",
              " ('successful', 4262),\n",
              " ('success', 4261),\n",
              " ('succeed', 4260),\n",
              " ('subtle', 4259),\n",
              " ('substitute', 4258),\n",
              " ('substances', 4257),\n",
              " ('substance', 4256),\n",
              " ('subs', 4255),\n",
              " ('subreddits', 4254),\n",
              " ('subreddit', 4253),\n",
              " ('subjects', 4252),\n",
              " ('subject', 4251),\n",
              " ('subconsciously', 4250),\n",
              " ('subconscious', 4249),\n",
              " ('sub', 4248),\n",
              " ('style', 4247),\n",
              " ('stupidly', 4246),\n",
              " ('stupid', 4245),\n",
              " ('stuffing', 4244),\n",
              " ('stuffed', 4243),\n",
              " ('stuff', 4242),\n",
              " ('studying', 4241),\n",
              " ('study', 4240),\n",
              " ('studies', 4239),\n",
              " ('studied', 4238),\n",
              " ('students', 4237),\n",
              " ('student', 4236),\n",
              " ('stuck', 4235),\n",
              " ('stubborn', 4234),\n",
              " ('struggling', 4233),\n",
              " ('struggles', 4232),\n",
              " ('struggled', 4231),\n",
              " ('struggle', 4230),\n",
              " ('structure', 4229),\n",
              " ('strongly', 4228),\n",
              " ('stronger', 4227),\n",
              " ('strong', 4226),\n",
              " ('stroke', 4225),\n",
              " ('string', 4224),\n",
              " ('strict', 4223),\n",
              " ('stretch', 4222),\n",
              " ('stressing', 4221),\n",
              " ('stressful', 4220),\n",
              " ('stresses', 4219),\n",
              " ('stressed', 4218),\n",
              " ('stress', 4217),\n",
              " ('strength', 4216),\n",
              " ('streets', 4215),\n",
              " ('street', 4214),\n",
              " ('stream', 4213),\n",
              " ('straw', 4212),\n",
              " ('strategies', 4211),\n",
              " ('strangers', 4210),\n",
              " ('stranger', 4209),\n",
              " ('strange', 4208),\n",
              " ('strain', 4207),\n",
              " ('straight', 4206),\n",
              " ('stove', 4205),\n",
              " ('story', 4204),\n",
              " ('storm', 4203),\n",
              " ('stories', 4202),\n",
              " ('stores', 4201),\n",
              " ('store', 4200),\n",
              " ('stops', 4199),\n",
              " ('stopping', 4198),\n",
              " ('stopped', 4197),\n",
              " ('stop', 4196),\n",
              " ('stood', 4195),\n",
              " ('stone', 4194),\n",
              " ('stomach', 4193),\n",
              " ('stolen', 4192),\n",
              " ('stole', 4191),\n",
              " ('stock', 4190),\n",
              " ('stir', 4189),\n",
              " ('still', 4188),\n",
              " ('stigma', 4187),\n",
              " ('sticks', 4186),\n",
              " ('sticking', 4185),\n",
              " ('stick', 4184),\n",
              " ('stew', 4183),\n",
              " ('steps', 4182),\n",
              " ('stepped', 4181),\n",
              " ('stepdad', 4180),\n",
              " ('step', 4179),\n",
              " ('stems', 4178),\n",
              " ('stem', 4177),\n",
              " ('steel', 4176),\n",
              " ('steam', 4175),\n",
              " ('steal', 4174),\n",
              " ('steaks', 4173),\n",
              " ('steak', 4172),\n",
              " ('steady', 4171),\n",
              " ('stays', 4170),\n",
              " ('staying', 4169),\n",
              " ('stayed', 4168),\n",
              " ('stay', 4167),\n",
              " ('status', 4166),\n",
              " ('station', 4165),\n",
              " ('states', 4164),\n",
              " ('statement', 4163),\n",
              " ('stated', 4162),\n",
              " ('state', 4161),\n",
              " ('starving', 4160),\n",
              " ('starved', 4159),\n",
              " ('starve', 4158),\n",
              " ('starvation', 4157),\n",
              " ('starts', 4156),\n",
              " ('starting', 4155),\n",
              " ('started', 4154),\n",
              " ('start', 4153),\n",
              " ('stars', 4152),\n",
              " ('staring', 4151),\n",
              " ('stared', 4150),\n",
              " ('stare', 4149),\n",
              " ('star', 4148),\n",
              " ('stands', 4147),\n",
              " ('standing', 4146),\n",
              " ('standards', 4145),\n",
              " ('standard', 4144),\n",
              " ('stand', 4143),\n",
              " ('stairs', 4142),\n",
              " ('stainless', 4141),\n",
              " ('stages', 4140),\n",
              " ('stage', 4139),\n",
              " ('staff', 4138),\n",
              " ('stable', 4137),\n",
              " ('stability', 4136),\n",
              " ('stabbing', 4135),\n",
              " ('stabbed', 4134),\n",
              " ('stab', 4133),\n",
              " ('ssris', 4132),\n",
              " ('ssri', 4131),\n",
              " ('square', 4130),\n",
              " ('spring', 4129),\n",
              " ('spreading', 4128),\n",
              " ('spread', 4127),\n",
              " ('spray', 4126),\n",
              " ('spouse', 4125),\n",
              " ('spots', 4124),\n",
              " ('spotify', 4123),\n",
              " ('spot', 4122),\n",
              " ('sports', 4121),\n",
              " ('sport', 4120),\n",
              " ('spoon', 4119),\n",
              " ('spoken', 4118),\n",
              " ('spoke', 4117),\n",
              " ('spoiled', 4116),\n",
              " ('split', 4115),\n",
              " ('spite', 4114),\n",
              " ('spit', 4113),\n",
              " ('spiritual', 4112),\n",
              " ('spirit', 4111),\n",
              " ('spiralling', 4110),\n",
              " ('spiraling', 4109),\n",
              " ('spiraled', 4108),\n",
              " ('spiral', 4107),\n",
              " ('spinning', 4106),\n",
              " ('spine', 4105),\n",
              " ('spinach', 4104),\n",
              " ('spicy', 4103),\n",
              " ('spices', 4102),\n",
              " ('spice', 4101),\n",
              " ('spent', 4100),\n",
              " ('spending', 4099),\n",
              " ('spend', 4098),\n",
              " ('speed', 4097),\n",
              " ('speech', 4096),\n",
              " ('spectrum', 4095),\n",
              " ('specifically', 4094),\n",
              " ('specific', 4093),\n",
              " ('specialist', 4092),\n",
              " ('special', 4091),\n",
              " ('speaking', 4090),\n",
              " ('speak', 4089),\n",
              " ('spark', 4088),\n",
              " ('spare', 4087),\n",
              " ('spanish', 4086),\n",
              " ('span', 4085),\n",
              " ('spaghetti', 4084),\n",
              " ('space', 4083),\n",
              " ('soy', 4082),\n",
              " ('south', 4081),\n",
              " ('sources', 4080),\n",
              " ('source', 4079),\n",
              " ('sour', 4078),\n",
              " ('soup', 4077),\n",
              " ('sounds', 4076),\n",
              " ('sounding', 4075),\n",
              " ('sounded', 4074),\n",
              " ('sound', 4073),\n",
              " ('soul', 4072),\n",
              " ('sought', 4071),\n",
              " ('sorts', 4070),\n",
              " ('sorta', 4069),\n",
              " ('sort', 4068),\n",
              " ('sorry', 4067),\n",
              " ('sore', 4066),\n",
              " ('sophomore', 4065),\n",
              " ('soooo', 4064),\n",
              " ('sooo', 4063),\n",
              " ('sooner', 4062),\n",
              " ('soon', 4061),\n",
              " ('soo', 4060),\n",
              " ('songs', 4059),\n",
              " ('song', 4058),\n",
              " ('son', 4057),\n",
              " ('somewhere', 4056),\n",
              " ('somewhat', 4055),\n",
              " ('sometimes', 4054),\n",
              " ('sometime', 4053),\n",
              " ('somethings', 4052),\n",
              " ('something', 4051),\n",
              " ('someones', 4050),\n",
              " ('someone', 4049),\n",
              " ('somehow', 4048),\n",
              " ('someday', 4047),\n",
              " ('somebody', 4046),\n",
              " ('solve', 4045),\n",
              " ('solutions', 4044),\n",
              " ('solution', 4043),\n",
              " ('solo', 4042),\n",
              " ('solid', 4041),\n",
              " ('solely', 4040),\n",
              " ('sold', 4039),\n",
              " ('software', 4038),\n",
              " ('soft', 4037),\n",
              " ('sodium', 4036),\n",
              " ('soda', 4035),\n",
              " ('society', 4034),\n",
              " ('socially', 4033),\n",
              " ('socializing', 4032),\n",
              " ('socialize', 4031),\n",
              " ('social', 4030),\n",
              " ('sober', 4029),\n",
              " ('sobbing', 4028),\n",
              " ('sob', 4027),\n",
              " ('soap', 4026),\n",
              " ('so', 4025),\n",
              " ('snow', 4024),\n",
              " ('snazzy', 4023),\n",
              " ('snapped', 4022),\n",
              " ('snapchat', 4021),\n",
              " ('snap', 4020),\n",
              " ('snacks', 4019),\n",
              " ('snack', 4018),\n",
              " ('smooth', 4017),\n",
              " ('smoking', 4016),\n",
              " ('smoked', 4015),\n",
              " ('smoke', 4014),\n",
              " ('smiling', 4013),\n",
              " ('smile', 4012),\n",
              " ('smells', 4011),\n",
              " ('smell', 4010),\n",
              " ('smart', 4009),\n",
              " ('smallest', 4008),\n",
              " ('smaller', 4007),\n",
              " ('small', 4006),\n",
              " ('slowly', 4005),\n",
              " ('slow', 4004),\n",
              " ('slit', 4003),\n",
              " ('slipping', 4002),\n",
              " ('slipped', 4001),\n",
              " ('slip', 4000),\n",
              " ...]"
            ]
          },
          "metadata": {},
          "execution_count": 24
        }
      ]
    },
    {
      "cell_type": "code",
      "source": [
        "labels = ['Anxiety', 'Body Dysmorphia', 'Depression', 'Eating Disorder', 'PTSD' ,'Suicide' ,'none']\n",
        "\n",
        "\n",
        "svm_model = svm.LinearSVC(random_state=42)\n",
        "svm_model.fit(Train_X_trans,y_train_enc)\n",
        "preds_SVM = svm_model.predict(Test_X_trans)\n",
        "print(svm_model.score(Test_X_trans,y_test_enc))\n",
        "print(svm_model.get_params())\n",
        "print(\"SVM Accuracy Score\", accuracy_score(y_test_enc, preds_SVM))\n",
        "print(\"Confusion matrix:\\n\",sklearn.metrics.confusion_matrix(y_test_enc, preds_SVM))\n",
        "print(\"F1:\",sklearn.metrics.f1_score(y_test_enc, preds_SVM,average='weighted'))\n",
        "print(\"Precision:\", sklearn.metrics.precision_score(y_test_enc, preds_SVM,average='weighted'))\n",
        "print(\"Recall:\", sklearn.metrics.recall_score(y_test_enc, preds_SVM,average='weighted'))\n",
        "print(\"Classification Report:\\n\",sklearn.metrics.classification_report(y_test_enc, preds_SVM, target_names=labels))"
      ],
      "metadata": {
        "id": "csG0j0Plk9X0"
      },
      "execution_count": null,
      "outputs": []
    },
    {
      "cell_type": "code",
      "source": [
        "fig, ax = plt.subplots(figsize=(16, 16))\n",
        "x=sklearn.metrics.ConfusionMatrixDisplay(sklearn.metrics.confusion_matrix(y_test_enc, preds_SVM),display_labels=labels)\n",
        "x.plot(ax=ax)\n",
        "plt.show()"
      ],
      "metadata": {
        "colab": {
          "base_uri": "https://localhost:8080/",
          "height": 901
        },
        "id": "USUqnWSSllgk",
        "outputId": "481884e7-f268-493f-ae6a-4bbb2a18f4fd"
      },
      "execution_count": null,
      "outputs": [
        {
          "output_type": "display_data",
          "data": {
            "text/plain": [
              "<Figure size 1152x1152 with 2 Axes>"
            ],
            "image/png": "[encoded data removed]"
          },
          "metadata": {
            "needs_background": "light"
          }
        }
      ]
    },
    {
      "cell_type": "code",
      "source": [
        "import gensim\n",
        "import keras\n",
        "from gensim.models import Word2Vec\n",
        "from tensorflow.keras import utils as np_utils\n",
        "from tensorflow.keras import preprocessing\n",
        "from keras.preprocessing.text import Tokenizer\n",
        "from keras.preprocessing.sequence import pad_sequences\n",
        "from tensorflow.keras import models, layers"
      ],
      "metadata": {
        "id": "M-G-y3O4oRXG"
      },
      "execution_count": 19,
      "outputs": []
    },
    {
      "cell_type": "code",
      "source": [
        "X = df['token_text']\n",
        "Y = df['class']\n"
      ],
      "metadata": {
        "id": "_V-YdWBzoS1D"
      },
      "execution_count": 20,
      "outputs": []
    },
    {
      "cell_type": "code",
      "source": [
        "word_embeddings_model = Word2Vec(X,window=5,size=300)"
      ],
      "metadata": {
        "id": "7X_WKsn6oTIt"
      },
      "execution_count": 21,
      "outputs": []
    },
    {
      "cell_type": "code",
      "source": [
        "max_seq_len = max([len(s) for s in X])\n",
        "print(max_seq_len)"
      ],
      "metadata": {
        "id": "uLhSAn-Doi3r",
        "colab": {
          "base_uri": "https://localhost:8080/"
        },
        "outputId": "67270a36-73fc-4312-9ec1-fdf0acc23663"
      },
      "execution_count": 22,
      "outputs": [
        {
          "output_type": "stream",
          "name": "stdout",
          "text": [
            "3835\n"
          ]
        }
      ]
    },
    {
      "cell_type": "code",
      "source": [
        "X_train, X_test, y_train, y_test = model_selection.train_test_split(X,Y,random_state = 42, test_size=0.2, stratify=Y)"
      ],
      "metadata": {
        "id": "jsz-HTEsoi9s"
      },
      "execution_count": 23,
      "outputs": []
    },
    {
      "cell_type": "code",
      "source": [
        "token = Tokenizer()\n",
        "token.fit_on_texts(X)\n",
        "X_train = token.texts_to_sequences(X_train)\n",
        "X_train = pad_sequences(X_train, max_seq_len)\n",
        "X_test = token.texts_to_sequences(X_test)\n",
        "X_test = pad_sequences(X_test, max_seq_len)"
      ],
      "metadata": {
        "id": "w2kyYKjuojF8"
      },
      "execution_count": 24,
      "outputs": []
    },
    {
      "cell_type": "code",
      "source": [
        "classes_names = ['Anxiety', 'Body Dysmorphia', 'Depression', 'Eating Disorder', 'PTSD' ,'Suicide' ,'none']"
      ],
      "metadata": {
        "id": "jXF3ho23rZd7"
      },
      "execution_count": 25,
      "outputs": []
    },
    {
      "cell_type": "code",
      "source": [
        "encoder = LabelEncoder()\n",
        "encoder.fit(classes_names)\n",
        "Y_test = encoder.fit_transform(y_test)\n",
        "Y_test = np_utils.to_categorical(np.asarray(Y_test))\n",
        "Y_train = encoder.fit_transform(y_train)\n",
        "Y_train = np_utils.to_categorical(np.asarray(Y_train))\n"
      ],
      "metadata": {
        "id": "jXWp4xHNovUe"
      },
      "execution_count": 26,
      "outputs": []
    },
    {
      "cell_type": "code",
      "source": [
        "EMBED_DIM = 300\n",
        "VOCAB_SIZE = len(token.word_index)+1"
      ],
      "metadata": {
        "id": "no4yiMfqoyGQ"
      },
      "execution_count": 27,
      "outputs": []
    },
    {
      "cell_type": "code",
      "source": [
        "# create embedding matrix (https://blog.keras.io/using-pre-trained-word-embeddings-in-a-keras-model.html)\n",
        "word_index = token.word_index\n",
        "embedding_matrix = np.zeros(shape=(VOCAB_SIZE,EMBED_DIM))\n",
        "for word, i in word_index.items():\n",
        "  try:\n",
        "    embedding_vector = word_embeddings_model[word]\n",
        "      # words not found in embedding index will be all-zeros.\n",
        "    embedding_matrix[i] = embedding_vector\n",
        "  except:\n",
        "    pass"
      ],
      "metadata": {
        "id": "ZIDUsPKzoyME",
        "colab": {
          "base_uri": "https://localhost:8080/"
        },
        "outputId": "7419b15e-415a-4384-d11e-21706fe6dddc"
      },
      "execution_count": 28,
      "outputs": [
        {
          "output_type": "stream",
          "name": "stderr",
          "text": [
            "/usr/local/lib/python3.7/dist-packages/ipykernel_launcher.py:6: DeprecationWarning: Call to deprecated `__getitem__` (Method will be removed in 4.0.0, use self.wv.__getitem__() instead).\n",
            "  \n"
          ]
        }
      ]
    },
    {
      "cell_type": "code",
      "source": [
        "from keras.callbacks import EarlyStopping\n",
        "callback = EarlyStopping(monitor='loss', patience=1)"
      ],
      "metadata": {
        "id": "2fPH-clko3er"
      },
      "execution_count": 29,
      "outputs": []
    },
    {
      "cell_type": "markdown",
      "source": [
        "Gkotsis et al architecture"
      ],
      "metadata": {
        "id": "eRTqiPul3eA8"
      }
    },
    {
      "cell_type": "code",
      "source": [
        "CNN_model = models.Sequential() #remove max input length seq parameter?\n",
        "CNN_model.add(layers.Embedding(VOCAB_SIZE,EMBED_DIM,weights=[embedding_matrix],input_length=max_seq_len, trainable=False))\n",
        "CNN_model.add(layers.Conv1D(5,3,activation='relu'))\n",
        "CNN_model.add(layers.MaxPooling1D(2))\n",
        "CNN_model.add(layers.Flatten())\n",
        "CNN_model.add(layers.Dropout(0.25))\n",
        "CNN_model.add(layers.Dense(256,activation='relu'))\n",
        "CNN_model.add(layers.Dense(7, activation='sigmoid'))\n",
        "\n",
        "CNN_model.summary()"
      ],
      "metadata": {
        "colab": {
          "base_uri": "https://localhost:8080/"
        },
        "id": "Q8pEM5D23O2j",
        "outputId": "9dfda196-8187-4929-b10d-1874c0f8941b"
      },
      "execution_count": null,
      "outputs": [
        {
          "output_type": "stream",
          "name": "stdout",
          "text": [
            "Model: \"sequential\"\n",
            "_________________________________________________________________\n",
            " Layer (type)                Output Shape              Param #   \n",
            "=================================================================\n",
            " embedding (Embedding)       (None, 3833, 300)         88088400  \n",
            "                                                                 \n",
            " conv1d (Conv1D)             (None, 3831, 5)           4505      \n",
            "                                                                 \n",
            " max_pooling1d (MaxPooling1D  (None, 1915, 5)          0         \n",
            " )                                                               \n",
            "                                                                 \n",
            " flatten (Flatten)           (None, 9575)              0         \n",
            "                                                                 \n",
            " dropout (Dropout)           (None, 9575)              0         \n",
            "                                                                 \n",
            " dense (Dense)               (None, 256)               2451456   \n",
            "                                                                 \n",
            " dense_1 (Dense)             (None, 7)                 1799      \n",
            "                                                                 \n",
            "=================================================================\n",
            "Total params: 90,546,160\n",
            "Trainable params: 2,457,760\n",
            "Non-trainable params: 88,088,400\n",
            "_________________________________________________________________\n"
          ]
        }
      ]
    },
    {
      "cell_type": "code",
      "source": [
        "CNN_model.compile(loss=\"categorical_crossentropy\", optimizer='adam', metrics=['accuracy'])"
      ],
      "metadata": {
        "id": "PACQhvGnrhDR"
      },
      "execution_count": null,
      "outputs": []
    },
    {
      "cell_type": "code",
      "source": [
        "CNN_model.fit(X_train,Y_train, epochs=100,batch_size=64, validation_data=(X_test,Y_test),callbacks=callback)"
      ],
      "metadata": {
        "id": "Vtq4xmVArhUY",
        "colab": {
          "base_uri": "https://localhost:8080/"
        },
        "outputId": "71ec2c7d-79b9-4cb4-b8ec-8f2ce8967cee"
      },
      "execution_count": null,
      "outputs": [
        {
          "output_type": "stream",
          "name": "stdout",
          "text": [
            "Epoch 1/100\n",
            "7655/7655 [==============================] - 107s 14ms/step - loss: 0.7132 - accuracy: 0.7195 - val_loss: 0.6222 - val_accuracy: 0.7588\n",
            "Epoch 2/100\n",
            "7655/7655 [==============================] - 106s 14ms/step - loss: 0.6496 - accuracy: 0.7485 - val_loss: 0.6225 - val_accuracy: 0.7576\n",
            "Epoch 3/100\n",
            "7655/7655 [==============================] - 106s 14ms/step - loss: 0.6360 - accuracy: 0.7539 - val_loss: 0.6136 - val_accuracy: 0.7645\n",
            "Epoch 4/100\n",
            "7655/7655 [==============================] - 106s 14ms/step - loss: 0.6259 - accuracy: 0.7573 - val_loss: 0.6158 - val_accuracy: 0.7572\n",
            "Epoch 5/100\n",
            "7655/7655 [==============================] - 108s 14ms/step - loss: 0.6206 - accuracy: 0.7599 - val_loss: 0.6101 - val_accuracy: 0.7677\n",
            "Epoch 6/100\n",
            "7655/7655 [==============================] - 106s 14ms/step - loss: 0.6168 - accuracy: 0.7614 - val_loss: 0.6103 - val_accuracy: 0.7666\n",
            "Epoch 7/100\n",
            "7655/7655 [==============================] - 106s 14ms/step - loss: 0.6138 - accuracy: 0.7636 - val_loss: 0.6051 - val_accuracy: 0.7691\n",
            "Epoch 8/100\n",
            "7655/7655 [==============================] - 106s 14ms/step - loss: 0.6093 - accuracy: 0.7651 - val_loss: 0.6127 - val_accuracy: 0.7716\n",
            "Epoch 9/100\n",
            "7655/7655 [==============================] - 105s 14ms/step - loss: 0.6064 - accuracy: 0.7667 - val_loss: 0.6094 - val_accuracy: 0.7687\n",
            "Epoch 10/100\n",
            "7655/7655 [==============================] - 106s 14ms/step - loss: 0.6034 - accuracy: 0.7679 - val_loss: 0.6172 - val_accuracy: 0.7679\n",
            "Epoch 11/100\n",
            "7655/7655 [==============================] - 106s 14ms/step - loss: 0.6022 - accuracy: 0.7687 - val_loss: 0.6032 - val_accuracy: 0.7721\n",
            "Epoch 12/100\n",
            "7655/7655 [==============================] - 106s 14ms/step - loss: 0.6005 - accuracy: 0.7695 - val_loss: 0.6200 - val_accuracy: 0.7707\n",
            "Epoch 13/100\n",
            "7655/7655 [==============================] - 106s 14ms/step - loss: 0.5986 - accuracy: 0.7699 - val_loss: 0.6162 - val_accuracy: 0.7677\n",
            "Epoch 14/100\n",
            "7655/7655 [==============================] - 107s 14ms/step - loss: 0.5974 - accuracy: 0.7705 - val_loss: 0.6321 - val_accuracy: 0.7593\n",
            "Epoch 15/100\n",
            "7655/7655 [==============================] - 107s 14ms/step - loss: 0.5954 - accuracy: 0.7719 - val_loss: 0.6148 - val_accuracy: 0.7699\n",
            "Epoch 16/100\n",
            "7655/7655 [==============================] - 106s 14ms/step - loss: 0.5942 - accuracy: 0.7723 - val_loss: 0.6249 - val_accuracy: 0.7703\n",
            "Epoch 17/100\n",
            "7655/7655 [==============================] - 106s 14ms/step - loss: 0.5948 - accuracy: 0.7724 - val_loss: 0.6161 - val_accuracy: 0.7724\n",
            "Epoch 18/100\n",
            "7655/7655 [==============================] - 106s 14ms/step - loss: 0.5926 - accuracy: 0.7732 - val_loss: 0.6141 - val_accuracy: 0.7739\n",
            "Epoch 19/100\n",
            "7655/7655 [==============================] - 106s 14ms/step - loss: 0.5934 - accuracy: 0.7733 - val_loss: 0.6195 - val_accuracy: 0.7711\n",
            "Epoch 20/100\n",
            "7655/7655 [==============================] - 106s 14ms/step - loss: 0.5906 - accuracy: 0.7747 - val_loss: 0.6195 - val_accuracy: 0.7700\n",
            "Epoch 21/100\n",
            "7655/7655 [==============================] - 105s 14ms/step - loss: 0.5929 - accuracy: 0.7731 - val_loss: 0.6276 - val_accuracy: 0.7652\n",
            "Epoch 22/100\n",
            "7655/7655 [==============================] - 106s 14ms/step - loss: 0.5901 - accuracy: 0.7744 - val_loss: 0.6265 - val_accuracy: 0.7711\n",
            "Epoch 23/100\n",
            "7655/7655 [==============================] - 106s 14ms/step - loss: 0.5883 - accuracy: 0.7748 - val_loss: 0.6300 - val_accuracy: 0.7687\n",
            "Epoch 24/100\n",
            "7655/7655 [==============================] - 106s 14ms/step - loss: 0.5891 - accuracy: 0.7748 - val_loss: 0.6224 - val_accuracy: 0.7707\n",
            "Epoch 25/100\n",
            "7655/7655 [==============================] - 106s 14ms/step - loss: 0.5886 - accuracy: 0.7755 - val_loss: 0.6269 - val_accuracy: 0.7719\n",
            "Epoch 26/100\n",
            "7655/7655 [==============================] - 106s 14ms/step - loss: 0.5873 - accuracy: 0.7753 - val_loss: 0.6287 - val_accuracy: 0.7680\n",
            "Epoch 27/100\n",
            "7655/7655 [==============================] - 105s 14ms/step - loss: 0.5875 - accuracy: 0.7754 - val_loss: 0.6379 - val_accuracy: 0.7676\n",
            "Epoch 28/100\n",
            "7655/7655 [==============================] - 106s 14ms/step - loss: 0.5890 - accuracy: 0.7758 - val_loss: 0.6275 - val_accuracy: 0.7728\n",
            "Epoch 29/100\n",
            "7655/7655 [==============================] - 106s 14ms/step - loss: 0.5871 - accuracy: 0.7760 - val_loss: 0.6317 - val_accuracy: 0.7719\n",
            "Epoch 30/100\n",
            "7655/7655 [==============================] - 106s 14ms/step - loss: 0.5858 - accuracy: 0.7764 - val_loss: 0.6386 - val_accuracy: 0.7661\n",
            "Epoch 31/100\n",
            "7655/7655 [==============================] - 106s 14ms/step - loss: 0.5857 - accuracy: 0.7770 - val_loss: 0.6424 - val_accuracy: 0.7662\n",
            "Epoch 32/100\n",
            "7655/7655 [==============================] - 106s 14ms/step - loss: 0.5857 - accuracy: 0.7771 - val_loss: 0.6247 - val_accuracy: 0.7710\n",
            "Epoch 33/100\n",
            "7655/7655 [==============================] - 105s 14ms/step - loss: 0.5862 - accuracy: 0.7766 - val_loss: 0.6473 - val_accuracy: 0.7638\n",
            "Epoch 34/100\n",
            "7655/7655 [==============================] - 105s 14ms/step - loss: 0.5866 - accuracy: 0.7762 - val_loss: 0.6368 - val_accuracy: 0.7709\n",
            "Epoch 35/100\n",
            "7655/7655 [==============================] - 106s 14ms/step - loss: 0.5857 - accuracy: 0.7766 - val_loss: 0.6231 - val_accuracy: 0.7744\n",
            "Epoch 36/100\n",
            "7655/7655 [==============================] - 106s 14ms/step - loss: 0.5852 - accuracy: 0.7770 - val_loss: 0.6427 - val_accuracy: 0.7694\n",
            "Epoch 37/100\n",
            "7655/7655 [==============================] - 105s 14ms/step - loss: 0.5851 - accuracy: 0.7767 - val_loss: 0.6471 - val_accuracy: 0.7666\n",
            "Epoch 38/100\n",
            "7655/7655 [==============================] - 106s 14ms/step - loss: 0.5852 - accuracy: 0.7772 - val_loss: 0.6318 - val_accuracy: 0.7712\n",
            "Epoch 39/100\n",
            "7655/7655 [==============================] - 105s 14ms/step - loss: 0.5854 - accuracy: 0.7773 - val_loss: 0.6431 - val_accuracy: 0.7690\n",
            "Epoch 40/100\n",
            "7655/7655 [==============================] - 106s 14ms/step - loss: 0.5851 - accuracy: 0.7776 - val_loss: 0.6282 - val_accuracy: 0.7722\n",
            "Epoch 41/100\n",
            "7655/7655 [==============================] - 106s 14ms/step - loss: 0.5858 - accuracy: 0.7775 - val_loss: 0.6305 - val_accuracy: 0.7722\n",
            "Epoch 42/100\n",
            "7655/7655 [==============================] - 106s 14ms/step - loss: 0.5841 - accuracy: 0.7771 - val_loss: 0.6537 - val_accuracy: 0.7677\n",
            "Epoch 43/100\n",
            "7655/7655 [==============================] - 106s 14ms/step - loss: 0.5839 - accuracy: 0.7778 - val_loss: 0.6429 - val_accuracy: 0.7698\n",
            "Epoch 44/100\n",
            "7655/7655 [==============================] - 106s 14ms/step - loss: 0.5830 - accuracy: 0.7780 - val_loss: 0.6368 - val_accuracy: 0.7721\n",
            "Epoch 45/100\n",
            "7655/7655 [==============================] - 105s 14ms/step - loss: 0.5853 - accuracy: 0.7777 - val_loss: 0.6401 - val_accuracy: 0.7717\n",
            "Epoch 46/100\n",
            "7655/7655 [==============================] - 105s 14ms/step - loss: 0.5847 - accuracy: 0.7775 - val_loss: 0.6278 - val_accuracy: 0.7767\n",
            "Epoch 47/100\n",
            "7655/7655 [==============================] - 105s 14ms/step - loss: 0.5836 - accuracy: 0.7776 - val_loss: 0.6433 - val_accuracy: 0.7710\n",
            "Epoch 48/100\n",
            "7655/7655 [==============================] - 105s 14ms/step - loss: 0.5838 - accuracy: 0.7779 - val_loss: 0.6432 - val_accuracy: 0.7716\n",
            "Epoch 49/100\n",
            "7655/7655 [==============================] - 105s 14ms/step - loss: 0.5845 - accuracy: 0.7780 - val_loss: 0.6538 - val_accuracy: 0.7678\n"
          ]
        },
        {
          "output_type": "execute_result",
          "data": {
            "text/plain": [
              "<keras.callbacks.History at 0x7f5b1c7e7d90>"
            ]
          },
          "metadata": {},
          "execution_count": 45
        }
      ]
    },
    {
      "cell_type": "code",
      "source": [
        "CNN_preds3 = CNN_model.predict(X_test, batch_size=64)\n",
        "print(sklearn.metrics.classification_report(Y_test.argmax(axis=1),CNN_preds3.argmax(axis=1), target_names=encoder.classes_))\n",
        "print(\"Confusion matrix:\\n\",sklearn.metrics.confusion_matrix(Y_test.argmax(axis=1),CNN_preds3.argmax(axis=1)))"
      ],
      "metadata": {
        "id": "si3uBmztr1ny",
        "colab": {
          "base_uri": "https://localhost:8080/"
        },
        "outputId": "543abe24-6266-4d20-c8b6-c05ac718f977"
      },
      "execution_count": null,
      "outputs": [
        {
          "output_type": "stream",
          "name": "stdout",
          "text": [
            "                 precision    recall  f1-score   support\n",
            "\n",
            "        Anxiety       0.86      0.78      0.81     22889\n",
            "Body Dysmorphia       0.80      0.87      0.83      6329\n",
            "     Depression       0.61      0.56      0.58     24948\n",
            "Eating Disorder       0.91      0.88      0.90     23016\n",
            "           PTSD       0.84      0.68      0.75      8359\n",
            "        Suicide       0.60      0.77      0.67     23442\n",
            "           none       0.96      0.91      0.93     13485\n",
            "\n",
            "       accuracy                           0.76    122468\n",
            "      macro avg       0.80      0.78      0.78    122468\n",
            "   weighted avg       0.77      0.76      0.77    122468\n",
            "\n",
            "Confusion matrix:\n",
            " [[17782   187  2919   475   544   903    79]\n",
            " [   70  5508   136   365    25   218     7]\n",
            " [  999   185 13868   472   268  9087    69]\n",
            " [  408   712   509 20264    31   814   278]\n",
            " [  801   136   621   103  5693   965    40]\n",
            " [  277   131  4482   202   180 18100    70]\n",
            " [  460    13   135   316    24   287 12250]]\n"
          ]
        }
      ]
    },
    {
      "cell_type": "code",
      "source": [
        "labels = ['Anxiety', 'Body Dysmorphia', 'Depression', 'Eating Disorder', 'PTSD' ,'Suicide' ,'none']"
      ],
      "metadata": {
        "id": "uO8uA0r89Czr"
      },
      "execution_count": null,
      "outputs": []
    },
    {
      "cell_type": "code",
      "source": [
        "fig, ax = plt.subplots(figsize=(16, 16))\n",
        "x=sklearn.metrics.ConfusionMatrixDisplay(sklearn.metrics.confusion_matrix(Y_test.argmax(axis=1),CNN_preds3.argmax(axis=1)),display_labels=classes_names)\n",
        "x.plot(ax=ax)\n",
        "plt.show()"
      ],
      "metadata": {
        "id": "Lae7cx_pr4mL",
        "colab": {
          "base_uri": "https://localhost:8080/",
          "height": 901
        },
        "outputId": "9019d4e7-1c98-4b26-aa6d-3c7ac7da5f0b"
      },
      "execution_count": null,
      "outputs": [
        {
          "output_type": "display_data",
          "data": {
            "text/plain": [
              "<Figure size 1152x1152 with 2 Axes>"
            ],
            "image/png": "[encoded data removed]"
          },
          "metadata": {
            "needs_background": "light"
          }
        }
      ]
    },
    {
      "cell_type": "code",
      "source": [
        "print(\"Accuracy Score\", accuracy_score(Y_test.argmax(axis=1),CNN_preds3.argmax(axis=1)))\n",
        "print(\"F1:\",sklearn.metrics.f1_score(Y_test.argmax(axis=1),CNN_preds3.argmax(axis=1),average='weighted'))\n",
        "print(\"Precision:\", sklearn.metrics.precision_score(Y_test.argmax(axis=1),CNN_preds3.argmax(axis=1),average='weighted'))\n",
        "print(\"Recall:\", sklearn.metrics.recall_score(Y_test.argmax(axis=1),CNN_preds3.argmax(axis=1),average='weighted'))"
      ],
      "metadata": {
        "id": "qQwADssdr7gX",
        "colab": {
          "base_uri": "https://localhost:8080/"
        },
        "outputId": "6e5c7cf7-3d47-4216-919e-a463aa16339c"
      },
      "execution_count": null,
      "outputs": [
        {
          "output_type": "stream",
          "name": "stdout",
          "text": [
            "Accuracy Score 0.7631789528693209\n",
            "F1: 0.76519274295414\n",
            "Precision: 0.7743486602129405\n",
            "Recall: 0.7631789528693209\n"
          ]
        }
      ]
    },
    {
      "cell_type": "code",
      "source": [
        "word_embeddings_model.save(\"word2vec_mh.model\")"
      ],
      "metadata": {
        "id": "9LQf48N15DI8"
      },
      "execution_count": null,
      "outputs": []
    },
    {
      "cell_type": "code",
      "source": [
        "CNN_model.save(\"mh_CNN_Gkotsis\")"
      ],
      "metadata": {
        "colab": {
          "base_uri": "https://localhost:8080/"
        },
        "id": "jIczj57vLwJa",
        "outputId": "a962c876-b370-4ac3-8b33-0cfd9fa4f2b0"
      },
      "execution_count": null,
      "outputs": [
        {
          "output_type": "stream",
          "name": "stdout",
          "text": [
            "INFO:tensorflow:Assets written to: mh_CNN_Gkotsis/assets\n"
          ]
        }
      ]
    },
    {
      "cell_type": "code",
      "source": [
        "!zip -r /content/mh_CNN_Gkotsis.zip /content/mh_CNN_Gkotsis"
      ],
      "metadata": {
        "colab": {
          "base_uri": "https://localhost:8080/"
        },
        "id": "tVpf-bs0Nlgt",
        "outputId": "b1d4c91c-3c67-4f84-e6f8-c94cfa6a1610"
      },
      "execution_count": null,
      "outputs": [
        {
          "output_type": "stream",
          "name": "stdout",
          "text": [
            "  adding: content/mh_CNN_Gkotsis/ (stored 0%)\n",
            "  adding: content/mh_CNN_Gkotsis/variables/ (stored 0%)\n",
            "  adding: content/mh_CNN_Gkotsis/variables/variables.data-00000-of-00001 (deflated 78%)\n",
            "  adding: content/mh_CNN_Gkotsis/variables/variables.index (deflated 61%)\n",
            "  adding: content/mh_CNN_Gkotsis/saved_model.pb (deflated 87%)\n",
            "  adding: content/mh_CNN_Gkotsis/assets/ (stored 0%)\n",
            "  adding: content/mh_CNN_Gkotsis/keras_metadata.pb (deflated 88%)\n"
          ]
        }
      ]
    },
    {
      "cell_type": "code",
      "source": [
        "from google.colab import files\n",
        "files.download(\"/content/mh_CNN_Gkotsis.zip\")"
      ],
      "metadata": {
        "colab": {
          "base_uri": "https://localhost:8080/",
          "height": 17
        },
        "id": "PgDJssegNqwN",
        "outputId": "9441e258-7a4d-42c0-b048-74a7086ebfc2"
      },
      "execution_count": null,
      "outputs": [
        {
          "output_type": "display_data",
          "data": {
            "text/plain": [
              "<IPython.core.display.Javascript object>"
            ],
            "application/javascript": [
              "\n",
              "    async function download(id, filename, size) {\n",
              "      if (!google.colab.kernel.accessAllowed) {\n",
              "        return;\n",
              "      }\n",
              "      const div = document.createElement('div');\n",
              "      const label = document.createElement('label');\n",
              "      label.textContent = `Downloading \"${filename}\": `;\n",
              "      div.appendChild(label);\n",
              "      const progress = document.createElement('progress');\n",
              "      progress.max = size;\n",
              "      div.appendChild(progress);\n",
              "      document.body.appendChild(div);\n",
              "\n",
              "      const buffers = [];\n",
              "      let downloaded = 0;\n",
              "\n",
              "      const channel = await google.colab.kernel.comms.open(id);\n",
              "      // Send a message to notify the kernel that we're ready.\n",
              "      channel.send({})\n",
              "\n",
              "      for await (const message of channel.messages) {\n",
              "        // Send a message to notify the kernel that we're ready.\n",
              "        channel.send({})\n",
              "        if (message.buffers) {\n",
              "          for (const buffer of message.buffers) {\n",
              "            buffers.push(buffer);\n",
              "            downloaded += buffer.byteLength;\n",
              "            progress.value = downloaded;\n",
              "          }\n",
              "        }\n",
              "      }\n",
              "      const blob = new Blob(buffers, {type: 'application/binary'});\n",
              "      const a = document.createElement('a');\n",
              "      a.href = window.URL.createObjectURL(blob);\n",
              "      a.download = filename;\n",
              "      div.appendChild(a);\n",
              "      a.click();\n",
              "      div.remove();\n",
              "    }\n",
              "  "
            ]
          },
          "metadata": {}
        },
        {
          "output_type": "display_data",
          "data": {
            "text/plain": [
              "<IPython.core.display.Javascript object>"
            ],
            "application/javascript": [
              "download(\"download_bf1f330c-ccd1-4f28-93dc-71a31a9c5e18\", \"mh_CNN_Gkotsis.zip\", 84375647)"
            ]
          },
          "metadata": {}
        }
      ]
    },
    {
      "cell_type": "markdown",
      "source": [
        "LTSM Model "
      ],
      "metadata": {
        "id": "se-BP8dZv_ca"
      }
    },
    {
      "cell_type": "code",
      "source": [
        "from keras.models import Sequential\n",
        "from keras.layers import Dense, Dropout, Activation, LSTM\n"
      ],
      "metadata": {
        "id": "slfjGu9DP3UQ"
      },
      "execution_count": 30,
      "outputs": []
    },
    {
      "cell_type": "code",
      "source": [
        "model = models.Sequential()\n",
        "model.add(layers.Embedding(VOCAB_SIZE,EMBED_DIM,weights=[embedding_matrix],input_length=max_seq_len, trainable=False))\n",
        "model.add(LSTM(EMBED_DIM))\n",
        "model.add(Dropout(0.3))\n",
        "model.add(Dense(7))\n",
        "model.add(Activation('sigmoid'))\n",
        "model.summary()"
      ],
      "metadata": {
        "id": "Z0x1VMf2P24I",
        "colab": {
          "base_uri": "https://localhost:8080/"
        },
        "outputId": "6baf5444-1edf-44a7-d7bb-1b3c9585631b"
      },
      "execution_count": 31,
      "outputs": [
        {
          "output_type": "stream",
          "name": "stdout",
          "text": [
            "Model: \"sequential\"\n",
            "_________________________________________________________________\n",
            " Layer (type)                Output Shape              Param #   \n",
            "=================================================================\n",
            " embedding (Embedding)       (None, 3835, 300)         83627700  \n",
            "                                                                 \n",
            " lstm (LSTM)                 (None, 300)               721200    \n",
            "                                                                 \n",
            " dropout (Dropout)           (None, 300)               0         \n",
            "                                                                 \n",
            " dense (Dense)               (None, 7)                 2107      \n",
            "                                                                 \n",
            " activation (Activation)     (None, 7)                 0         \n",
            "                                                                 \n",
            "=================================================================\n",
            "Total params: 84,351,007\n",
            "Trainable params: 723,307\n",
            "Non-trainable params: 83,627,700\n",
            "_________________________________________________________________\n"
          ]
        }
      ]
    },
    {
      "cell_type": "code",
      "source": [
        "model.compile(loss=\"categorical_crossentropy\", optimizer='adam', metrics=['accuracy'])"
      ],
      "metadata": {
        "id": "NHCbFnSGQ10L"
      },
      "execution_count": 32,
      "outputs": []
    },
    {
      "cell_type": "code",
      "source": [
        "model.fit(X_train,Y_train, epochs=3,batch_size=64, validation_data=(X_test,Y_test),callbacks=callback)"
      ],
      "metadata": {
        "id": "NzVEATepRMeS",
        "colab": {
          "base_uri": "https://localhost:8080/"
        },
        "outputId": "c57e8952-bf5a-405e-a285-1bae2e3296aa"
      },
      "execution_count": 33,
      "outputs": [
        {
          "output_type": "stream",
          "name": "stdout",
          "text": [
            "Epoch 1/3\n",
            "7655/7655 [==============================] - 4241s 553ms/step - loss: 0.5449 - accuracy: 0.7931 - val_loss: 0.4717 - val_accuracy: 0.8181\n",
            "Epoch 2/3\n",
            "7655/7655 [==============================] - 4282s 559ms/step - loss: 0.4681 - accuracy: 0.8196 - val_loss: 0.4607 - val_accuracy: 0.8222\n",
            "Epoch 3/3\n",
            "7655/7655 [==============================] - 4294s 561ms/step - loss: 0.4428 - accuracy: 0.8281 - val_loss: 0.4542 - val_accuracy: 0.8243\n"
          ]
        },
        {
          "output_type": "execute_result",
          "data": {
            "text/plain": [
              "<keras.callbacks.History at 0x7f6b09e5a490>"
            ]
          },
          "metadata": {},
          "execution_count": 33
        }
      ]
    },
    {
      "cell_type": "code",
      "source": [
        "model_pred = model.predict(X_test, batch_size=64)\n",
        "print(sklearn.metrics.classification_report(Y_test.argmax(axis=1),model_pred.argmax(axis=1), target_names=encoder.classes_))\n",
        "print(\"Confusion matrix:\\n\",sklearn.metrics.confusion_matrix(Y_test.argmax(axis=1),model_pred.argmax(axis=1)))"
      ],
      "metadata": {
        "id": "JPSsvjnaw07X",
        "colab": {
          "base_uri": "https://localhost:8080/"
        },
        "outputId": "f9486f01-9fbe-47c3-dc2b-0ecc61d0fa13"
      },
      "execution_count": 34,
      "outputs": [
        {
          "output_type": "stream",
          "name": "stdout",
          "text": [
            "                 precision    recall  f1-score   support\n",
            "\n",
            "        Anxiety       0.90      0.85      0.87     22889\n",
            "Body Dysmorphia       0.91      0.90      0.90      6329\n",
            "     Depression       0.67      0.67      0.67     24948\n",
            "Eating Disorder       0.94      0.94      0.94     23016\n",
            "           PTSD       0.87      0.80      0.83      8359\n",
            "        Suicide       0.70      0.76      0.73     23442\n",
            "           none       0.96      0.98      0.97     13485\n",
            "\n",
            "       accuracy                           0.82    122468\n",
            "      macro avg       0.85      0.84      0.84    122468\n",
            "   weighted avg       0.83      0.82      0.83    122468\n",
            "\n",
            "Confusion matrix:\n",
            " [[19383    73  2091   301   382   558   101]\n",
            " [   61  5696   168   308     6    79    11]\n",
            " [ 1031   125 16666   382   321  6335    88]\n",
            " [  209   275   412 21621    56   243   200]\n",
            " [  538     8   715    70  6689   303    36]\n",
            " [  307    87  4793   217   219 17742    77]\n",
            " [   42     3    75   138    12    63 13152]]\n"
          ]
        }
      ]
    },
    {
      "cell_type": "code",
      "source": [
        "fig, ax = plt.subplots(figsize=(16, 16))\n",
        "x=sklearn.metrics.ConfusionMatrixDisplay(sklearn.metrics.confusion_matrix(Y_test.argmax(axis=1),model_pred.argmax(axis=1)),display_labels=classes_names)\n",
        "x.plot(ax=ax)\n",
        "plt.show()"
      ],
      "metadata": {
        "id": "QX7aszV8TSkd",
        "colab": {
          "base_uri": "https://localhost:8080/",
          "height": 895
        },
        "outputId": "ddd84dbe-075e-4c53-8346-ae8054a0d0d5"
      },
      "execution_count": 35,
      "outputs": [
        {
          "output_type": "display_data",
          "data": {
            "text/plain": [
              "<Figure size 1152x1152 with 2 Axes>"
            ],
            "image/png": "[encoded data removed]"
          },
          "metadata": {
            "needs_background": "light"
          }
        }
      ]
    },
    {
      "cell_type": "code",
      "source": [
        "model.save(\"mh_LSTM_5\")"
      ],
      "metadata": {
        "id": "inwnGhaPfJo0",
        "colab": {
          "base_uri": "https://localhost:8080/"
        },
        "outputId": "2a26d66e-38ee-469b-91c6-7d63e319fb77"
      },
      "execution_count": 36,
      "outputs": [
        {
          "output_type": "stream",
          "name": "stderr",
          "text": [
            "WARNING:absl:Found untraced functions such as lstm_cell_layer_call_fn, lstm_cell_layer_call_and_return_conditional_losses while saving (showing 2 of 2). These functions will not be directly callable after loading.\n"
          ]
        },
        {
          "output_type": "stream",
          "name": "stdout",
          "text": [
            "INFO:tensorflow:Assets written to: mh_LSTM_5/assets\n"
          ]
        },
        {
          "output_type": "stream",
          "name": "stderr",
          "text": [
            "INFO:tensorflow:Assets written to: mh_LSTM_5/assets\n",
            "WARNING:absl:<keras.layers.recurrent.LSTMCell object at 0x7f6b09d77c50> has the same name 'LSTMCell' as a built-in Keras object. Consider renaming <class 'keras.layers.recurrent.LSTMCell'> to avoid naming conflicts when loading with `tf.keras.models.load_model`. If renaming is not possible, pass the object in the `custom_objects` parameter of the load function.\n"
          ]
        }
      ]
    },
    {
      "cell_type": "code",
      "source": [
        "from google.colab import files\n",
        "!zip -r /content/mh_LSTM_5.zip /content/mh_LSTM_5\n",
        "files.download(\"/content/mh_LSTM_5.zip\")"
      ],
      "metadata": {
        "id": "gc03uCHffSWJ",
        "colab": {
          "base_uri": "https://localhost:8080/",
          "height": 139
        },
        "outputId": "1d55701f-e8e5-4f53-acf6-2fa0c1896805"
      },
      "execution_count": 37,
      "outputs": [
        {
          "output_type": "stream",
          "name": "stdout",
          "text": [
            "  adding: content/mh_LSTM_5/ (stored 0%)\n",
            "  adding: content/mh_LSTM_5/saved_model.pb (deflated 90%)\n",
            "  adding: content/mh_LSTM_5/assets/ (stored 0%)\n",
            "  adding: content/mh_LSTM_5/variables/ (stored 0%)\n",
            "  adding: content/mh_LSTM_5/variables/variables.data-00000-of-00001 (deflated 79%)\n",
            "  adding: content/mh_LSTM_5/variables/variables.index (deflated 60%)\n",
            "  adding: content/mh_LSTM_5/keras_metadata.pb (deflated 87%)\n"
          ]
        },
        {
          "output_type": "display_data",
          "data": {
            "text/plain": [
              "<IPython.core.display.Javascript object>"
            ],
            "application/javascript": [
              "\n",
              "    async function download(id, filename, size) {\n",
              "      if (!google.colab.kernel.accessAllowed) {\n",
              "        return;\n",
              "      }\n",
              "      const div = document.createElement('div');\n",
              "      const label = document.createElement('label');\n",
              "      label.textContent = `Downloading \"${filename}\": `;\n",
              "      div.appendChild(label);\n",
              "      const progress = document.createElement('progress');\n",
              "      progress.max = size;\n",
              "      div.appendChild(progress);\n",
              "      document.body.appendChild(div);\n",
              "\n",
              "      const buffers = [];\n",
              "      let downloaded = 0;\n",
              "\n",
              "      const channel = await google.colab.kernel.comms.open(id);\n",
              "      // Send a message to notify the kernel that we're ready.\n",
              "      channel.send({})\n",
              "\n",
              "      for await (const message of channel.messages) {\n",
              "        // Send a message to notify the kernel that we're ready.\n",
              "        channel.send({})\n",
              "        if (message.buffers) {\n",
              "          for (const buffer of message.buffers) {\n",
              "            buffers.push(buffer);\n",
              "            downloaded += buffer.byteLength;\n",
              "            progress.value = downloaded;\n",
              "          }\n",
              "        }\n",
              "      }\n",
              "      const blob = new Blob(buffers, {type: 'application/binary'});\n",
              "      const a = document.createElement('a');\n",
              "      a.href = window.URL.createObjectURL(blob);\n",
              "      a.download = filename;\n",
              "      div.appendChild(a);\n",
              "      a.click();\n",
              "      div.remove();\n",
              "    }\n",
              "  "
            ]
          },
          "metadata": {}
        },
        {
          "output_type": "display_data",
          "data": {
            "text/plain": [
              "<IPython.core.display.Javascript object>"
            ],
            "application/javascript": [
              "download(\"download_7b776eac-4634-47f3-a52a-907e0d955ef4\", \"mh_LSTM_5.zip\", 73393986)"
            ]
          },
          "metadata": {}
        }
      ]
    },
    {
      "cell_type": "code",
      "source": [
        "dataset = pd.read_csv('/content/drive/My Drive/dataset_journal_entries.csv', index_col=0)"
      ],
      "metadata": {
        "id": "u8RTvPQyitYu"
      },
      "execution_count": 48,
      "outputs": []
    },
    {
      "cell_type": "code",
      "source": [
        "df['text'] = df['title'] + ' ' + df['selftext']\n",
        "df.drop(columns=['title', 'selftext'], inplace=True)\n",
        "df['text'] = df['text'].str.lower()\n",
        "df['text'] = df['text'].str.replace('https:\\S+|www.\\S+', '', case=False)\n",
        "df['text'] = df['text'].str.replace(r'[^\\x00-\\x7F]+', '', regex=True)\n",
        "df = df.dropna()\n",
        "df['token_text'] = df['text'].apply(nltk.word_tokenize)\n",
        "stop_words = nltk.corpus.stopwords.words(\"english\")\n",
        "df['token_text'] = df['token_text'].apply(lambda x: [item for item in x if item not in stop_words])\n",
        "df['token_text'] = df['token_text'].apply(lambda x: [item for item in x if re.match('[a-z]+', item)])\n",
        "df = df.dropna()"
      ],
      "metadata": {
        "id": "hqiRr7Yd4iTo",
        "outputId": "48588baf-10ab-4353-b7e5-27d4cced85dc",
        "colab": {
          "base_uri": "https://localhost:8080/"
        }
      },
      "execution_count": 40,
      "outputs": [
        {
          "output_type": "stream",
          "name": "stderr",
          "text": [
            "/usr/local/lib/python3.7/dist-packages/ipykernel_launcher.py:4: FutureWarning: The default value of regex will change from True to False in a future version.\n",
            "  after removing the cwd from sys.path.\n"
          ]
        }
      ]
    },
    {
      "cell_type": "code",
      "source": [
        "df.head()"
      ],
      "metadata": {
        "id": "EbO85oUB5oXp",
        "outputId": "43c662a6-4e0e-469d-f1f1-eefdc7dda589",
        "colab": {
          "base_uri": "https://localhost:8080/",
          "height": 206
        }
      },
      "execution_count": 44,
      "outputs": [
        {
          "output_type": "execute_result",
          "data": {
            "text/plain": [
              "  subreddit                                               text  \\\n",
              "0     Diary  gut punch after gut punch. i feel more and mor...   \n",
              "1     Diary  i want to do more i really want to do more. pu...   \n",
              "2     Diary  romance vent/ self talk do i like him? sometim...   \n",
              "4     Diary  to you to whoever cosmic being that decided to...   \n",
              "5     Diary  sigh life is shit, having no crush is boring. ...   \n",
              "\n",
              "                                          token_text  \n",
              "0  [gut, punch, gut, punch, feel, weak, day, day,...  \n",
              "1  [want, really, want, push, expand, capable, re...  \n",
              "2  [romance, vent/, self, talk, like, sometimes, ...  \n",
              "4  [whoever, cosmic, decided, give, character, de...  \n",
              "5  [sigh, life, shit, crush, boring, happy, fucki...  "
            ],
            "text/html": [
              "\n",
              "  <div id=\"df-f191421d-375d-4275-bfde-af239c5176a7\">\n",
              "    <div class=\"colab-df-container\">\n",
              "      <div>\n",
              "<style scoped>\n",
              "    .dataframe tbody tr th:only-of-type {\n",
              "        vertical-align: middle;\n",
              "    }\n",
              "\n",
              "    .dataframe tbody tr th {\n",
              "        vertical-align: top;\n",
              "    }\n",
              "\n",
              "    .dataframe thead th {\n",
              "        text-align: right;\n",
              "    }\n",
              "</style>\n",
              "<table border=\"1\" class=\"dataframe\">\n",
              "  <thead>\n",
              "    <tr style=\"text-align: right;\">\n",
              "      <th></th>\n",
              "      <th>subreddit</th>\n",
              "      <th>text</th>\n",
              "      <th>token_text</th>\n",
              "    </tr>\n",
              "  </thead>\n",
              "  <tbody>\n",
              "    <tr>\n",
              "      <th>0</th>\n",
              "      <td>Diary</td>\n",
              "      <td>gut punch after gut punch. i feel more and mor...</td>\n",
              "      <td>[gut, punch, gut, punch, feel, weak, day, day,...</td>\n",
              "    </tr>\n",
              "    <tr>\n",
              "      <th>1</th>\n",
              "      <td>Diary</td>\n",
              "      <td>i want to do more i really want to do more. pu...</td>\n",
              "      <td>[want, really, want, push, expand, capable, re...</td>\n",
              "    </tr>\n",
              "    <tr>\n",
              "      <th>2</th>\n",
              "      <td>Diary</td>\n",
              "      <td>romance vent/ self talk do i like him? sometim...</td>\n",
              "      <td>[romance, vent/, self, talk, like, sometimes, ...</td>\n",
              "    </tr>\n",
              "    <tr>\n",
              "      <th>4</th>\n",
              "      <td>Diary</td>\n",
              "      <td>to you to whoever cosmic being that decided to...</td>\n",
              "      <td>[whoever, cosmic, decided, give, character, de...</td>\n",
              "    </tr>\n",
              "    <tr>\n",
              "      <th>5</th>\n",
              "      <td>Diary</td>\n",
              "      <td>sigh life is shit, having no crush is boring. ...</td>\n",
              "      <td>[sigh, life, shit, crush, boring, happy, fucki...</td>\n",
              "    </tr>\n",
              "  </tbody>\n",
              "</table>\n",
              "</div>\n",
              "      <button class=\"colab-df-convert\" onclick=\"convertToInteractive('df-f191421d-375d-4275-bfde-af239c5176a7')\"\n",
              "              title=\"Convert this dataframe to an interactive table.\"\n",
              "              style=\"display:none;\">\n",
              "        \n",
              "  <svg xmlns=\"http://www.w3.org/2000/svg\" height=\"24px\"viewBox=\"0 0 24 24\"\n",
              "       width=\"24px\">\n",
              "    <path d=\"M0 0h24v24H0V0z\" fill=\"none\"/>\n",
              "    <path d=\"M18.56 5.44l.94 2.06.94-2.06 2.06-.94-2.06-.94-.94-2.06-.94 2.06-2.06.94zm-11 1L8.5 8.5l.94-2.06 2.06-.94-2.06-.94L8.5 2.5l-.94 2.06-2.06.94zm10 10l.94 2.06.94-2.06 2.06-.94-2.06-.94-.94-2.06-.94 2.06-2.06.94z\"/><path d=\"M17.41 7.96l-1.37-1.37c-.4-.4-.92-.59-1.43-.59-.52 0-1.04.2-1.43.59L10.3 9.45l-7.72 7.72c-.78.78-.78 2.05 0 2.83L4 21.41c.39.39.9.59 1.41.59.51 0 1.02-.2 1.41-.59l7.78-7.78 2.81-2.81c.8-.78.8-2.07 0-2.86zM5.41 20L4 18.59l7.72-7.72 1.47 1.35L5.41 20z\"/>\n",
              "  </svg>\n",
              "      </button>\n",
              "      \n",
              "  <style>\n",
              "    .colab-df-container {\n",
              "      display:flex;\n",
              "      flex-wrap:wrap;\n",
              "      gap: 12px;\n",
              "    }\n",
              "\n",
              "    .colab-df-convert {\n",
              "      background-color: #E8F0FE;\n",
              "      border: none;\n",
              "      border-radius: 50%;\n",
              "      cursor: pointer;\n",
              "      display: none;\n",
              "      fill: #1967D2;\n",
              "      height: 32px;\n",
              "      padding: 0 0 0 0;\n",
              "      width: 32px;\n",
              "    }\n",
              "\n",
              "    .colab-df-convert:hover {\n",
              "      background-color: #E2EBFA;\n",
              "      box-shadow: 0px 1px 2px rgba(60, 64, 67, 0.3), 0px 1px 3px 1px rgba(60, 64, 67, 0.15);\n",
              "      fill: #174EA6;\n",
              "    }\n",
              "\n",
              "    [theme=dark] .colab-df-convert {\n",
              "      background-color: #3B4455;\n",
              "      fill: #D2E3FC;\n",
              "    }\n",
              "\n",
              "    [theme=dark] .colab-df-convert:hover {\n",
              "      background-color: #434B5C;\n",
              "      box-shadow: 0px 1px 3px 1px rgba(0, 0, 0, 0.15);\n",
              "      filter: drop-shadow(0px 1px 2px rgba(0, 0, 0, 0.3));\n",
              "      fill: #FFFFFF;\n",
              "    }\n",
              "  </style>\n",
              "\n",
              "      <script>\n",
              "        const buttonEl =\n",
              "          document.querySelector('#df-f191421d-375d-4275-bfde-af239c5176a7 button.colab-df-convert');\n",
              "        buttonEl.style.display =\n",
              "          google.colab.kernel.accessAllowed ? 'block' : 'none';\n",
              "\n",
              "        async function convertToInteractive(key) {\n",
              "          const element = document.querySelector('#df-f191421d-375d-4275-bfde-af239c5176a7');\n",
              "          const dataTable =\n",
              "            await google.colab.kernel.invokeFunction('convertToInteractive',\n",
              "                                                     [key], {});\n",
              "          if (!dataTable) return;\n",
              "\n",
              "          const docLinkHtml = 'Like what you see? Visit the ' +\n",
              "            '<a target=\"_blank\" href=https://colab.research.google.com/notebooks/data_table.ipynb>data table notebook</a>'\n",
              "            + ' to learn more about interactive tables.';\n",
              "          element.innerHTML = '';\n",
              "          dataTable['output_type'] = 'display_data';\n",
              "          await google.colab.output.renderOutput(dataTable, element);\n",
              "          const docLink = document.createElement('div');\n",
              "          docLink.innerHTML = docLinkHtml;\n",
              "          element.appendChild(docLink);\n",
              "        }\n",
              "      </script>\n",
              "    </div>\n",
              "  </div>\n",
              "  "
            ]
          },
          "metadata": {},
          "execution_count": 44
        }
      ]
    },
    {
      "cell_type": "code",
      "source": [
        "max_seq_len = max([len(s) for s in df['token_text']])\n",
        "print(max_seq_len)"
      ],
      "metadata": {
        "id": "IlhZAqmA5HMY",
        "outputId": "c9dce2d6-7306-4251-944f-907399f63ca0",
        "colab": {
          "base_uri": "https://localhost:8080/"
        }
      },
      "execution_count": 42,
      "outputs": [
        {
          "output_type": "stream",
          "name": "stdout",
          "text": [
            "3624\n"
          ]
        }
      ]
    },
    {
      "cell_type": "code",
      "source": [
        "X_train = token.texts_to_sequences(df['token_text'])\n",
        "X_train = pad_sequences(X_train, 3835)"
      ],
      "metadata": {
        "id": "3jNJToI84q5g"
      },
      "execution_count": 45,
      "outputs": []
    },
    {
      "cell_type": "code",
      "source": [
        "model_pred = model.predict(X_train, batch_size=64)"
      ],
      "metadata": {
        "id": "57DRaQit5u45"
      },
      "execution_count": 47,
      "outputs": []
    },
    {
      "cell_type": "code",
      "source": [
        "for i in range(0, 50):\n",
        "    print(dataset.iloc[i],df.iloc[i], model_pred[i])\n",
        "    print('\\n')"
      ],
      "metadata": {
        "id": "FhnTsEwX50ux",
        "outputId": "bf868a4f-ec09-4e9b-9200-a8655e585ab9",
        "colab": {
          "base_uri": "https://localhost:8080/"
        }
      },
      "execution_count": 49,
      "outputs": [
        {
          "output_type": "stream",
          "name": "stdout",
          "text": [
            "title                               Gut punch after gut punch.\n",
            "selftext     I feel more and more weak day by day. I feel a...\n",
            "subreddit                                                Diary\n",
            "Name: 0, dtype: object subreddit                                                 Diary\n",
            "text          gut punch after gut punch. i feel more and mor...\n",
            "token_text    [gut, punch, gut, punch, feel, weak, day, day,...\n",
            "Name: 0, dtype: object [0.89798677 0.10392782 0.8320624  0.26048282 0.32691696 0.8376754\n",
            " 0.04085764]\n",
            "\n",
            "\n",
            "title                                        I want to do more\n",
            "selftext     I really want to do more. Push myself until I ...\n",
            "subreddit                                                Diary\n",
            "Name: 1, dtype: object subreddit                                                 Diary\n",
            "text          i want to do more i really want to do more. pu...\n",
            "token_text    [want, really, want, push, expand, capable, re...\n",
            "Name: 1, dtype: object [0.4906076  0.01597843 0.9472448  0.36618868 0.24614172 0.90058935\n",
            " 0.04675086]\n",
            "\n",
            "\n",
            "title                                  Romance vent/ self talk\n",
            "selftext     Do I like him? Sometimes I think it’s a simple...\n",
            "subreddit                                                Diary\n",
            "Name: 2, dtype: object subreddit                                                 Diary\n",
            "text          romance vent/ self talk do i like him? sometim...\n",
            "token_text    [romance, vent/, self, talk, like, sometimes, ...\n",
            "Name: 2, dtype: object [0.9407287  0.04453747 0.93174756 0.24777275 0.43340537 0.59490913\n",
            " 0.06110252]\n",
            "\n",
            "\n",
            "title                                                   To you\n",
            "selftext     To whoever cosmic being that decided to give m...\n",
            "subreddit                                                Diary\n",
            "Name: 4, dtype: object subreddit                                                 Diary\n",
            "text          to you to whoever cosmic being that decided to...\n",
            "token_text    [whoever, cosmic, decided, give, character, de...\n",
            "Name: 4, dtype: object [0.6350784  0.12276711 0.92935145 0.14037941 0.57602096 0.7943306\n",
            " 0.01272819]\n",
            "\n",
            "\n",
            "title                                                     Sigh\n",
            "selftext     Life is shit, having no crush is boring. Happy...\n",
            "subreddit                                                Diary\n",
            "Name: 5, dtype: object subreddit                                                 Diary\n",
            "text          sigh life is shit, having no crush is boring. ...\n",
            "token_text    [sigh, life, shit, crush, boring, happy, fucki...\n",
            "Name: 5, dtype: object [0.33848968 0.02728945 0.9834668  0.09089874 0.06739008 0.9774763\n",
            " 0.00293355]\n",
            "\n",
            "\n",
            "title                          Im going to die from alcoholism\n",
            "selftext     I try to stop and i cant. I love you bops. I h...\n",
            "subreddit                                                Diary\n",
            "Name: 6, dtype: object subreddit                                                 Diary\n",
            "text          im going to die from alcoholism i try to stop ...\n",
            "token_text    [im, going, die, alcoholism, try, stop, cant, ...\n",
            "Name: 6, dtype: object [0.4246626  0.04339053 0.80177724 0.5188534  0.10690916 0.9634168\n",
            " 0.02455239]\n",
            "\n",
            "\n",
            "title                                               01/06/2022\n",
            "selftext     I did the 10 mins on the treadmill AND took th...\n",
            "subreddit                                                Diary\n",
            "Name: 7, dtype: object subreddit                                                 Diary\n",
            "text          01/06/2022 i did the 10 mins on the treadmill ...\n",
            "token_text    [mins, treadmill, took, dog, minute, walk, sig...\n",
            "Name: 7, dtype: object [0.78237766 0.11295123 0.8761017  0.68063354 0.16693209 0.5318178\n",
            " 0.01251005]\n",
            "\n",
            "\n",
            "title                                           overreacting ?\n",
            "selftext     is being upset about being “shushed” during se...\n",
            "subreddit                                                Diary\n",
            "Name: 8, dtype: object subreddit                                                 Diary\n",
            "text          overreacting ? is being upset about being shus...\n",
            "token_text    [overreacting, upset, shushed, sex, normal, th...\n",
            "Name: 8, dtype: object [0.87976253 0.03198356 0.8704736  0.3126416  0.76345366 0.38638192\n",
            " 0.054256  ]\n",
            "\n",
            "\n",
            "title                                                Exhausted\n",
            "selftext     Sometimes I feel so beaten down. Like I coulda...\n",
            "subreddit                                                Diary\n",
            "Name: 12, dtype: object subreddit                                                 Diary\n",
            "text          exhausted sometimes i feel so beaten down. lik...\n",
            "token_text    [exhausted, sometimes, feel, beaten, like, cou...\n",
            "Name: 12, dtype: object [0.20448789 0.00857072 0.97095823 0.10492774 0.6005163  0.97224176\n",
            " 0.02238817]\n",
            "\n",
            "\n",
            "title                                 Thanks for that, I guess\n",
            "selftext     Tonight, I have a night off work from third sh...\n",
            "subreddit                                                Diary\n",
            "Name: 16, dtype: object subreddit                                                 Diary\n",
            "text          thanks for that, i guess tonight, i have a nig...\n",
            "token_text    [thanks, guess, tonight, night, work, third, s...\n",
            "Name: 16, dtype: object [0.95820206 0.01494088 0.9208713  0.13840151 0.4580902  0.8706801\n",
            " 0.02641256]\n",
            "\n",
            "\n",
            "title                                               30/05/2022\n",
            "selftext     Walked 10 mins on the treadmill today. Day 2 t...\n",
            "subreddit                                                Diary\n",
            "Name: 17, dtype: object subreddit                                                 Diary\n",
            "text          30/05/2022 walked 10 mins on the treadmill tod...\n",
            "token_text    [walked, mins, treadmill, today, day, today, l...\n",
            "Name: 17, dtype: object [0.27659056 0.28060427 0.5638986  0.9935813  0.15138161 0.4289135\n",
            " 0.08827345]\n",
            "\n",
            "\n",
            "title                                      In diary 2022年5月30日\n",
            "selftext     2022年5月30 日\\n\\n上海的天气湿热了，就是容易夜里翻来倒去，无法入眠，或者睡不安稳...\n",
            "subreddit                                                Diary\n",
            "Name: 23, dtype: object subreddit                                                 Diary\n",
            "text          in diary 2022530 2022530 \\n\\n\\n\\n\\n\\n\\n\\n\\n\\n\\...\n",
            "token_text                                              [diary]\n",
            "Name: 23, dtype: object [0.4344126  0.1170794  0.5111923  0.41464064 0.17791988 0.44648993\n",
            " 0.77935153]\n",
            "\n",
            "\n",
            "title                                Fuck this childhood abuse\n",
            "selftext     Fuck this childhood abuse that my parents had ...\n",
            "subreddit                                                Diary\n",
            "Name: 24, dtype: object subreddit                                                 Diary\n",
            "text          fuck this childhood abuse fuck this childhood ...\n",
            "token_text    [fuck, childhood, abuse, fuck, childhood, abus...\n",
            "Name: 24, dtype: object [0.34941223 0.00987099 0.92752147 0.16861916 0.66184217 0.8242279\n",
            " 0.06460124]\n",
            "\n",
            "\n",
            "title        FUTURE Helpful Advice: Be careful who you rant to\n",
            "selftext     Don’t casually open up to random people outsid...\n",
            "subreddit                                                Diary\n",
            "Name: 26, dtype: object subreddit                                                 Diary\n",
            "text          future helpful advice: be careful who you rant...\n",
            "token_text    [future, helpful, advice, careful, rant, dont,...\n",
            "Name: 26, dtype: object [0.8928071  0.18182567 0.8602302  0.39153543 0.4709885  0.6593075\n",
            " 0.1187078 ]\n",
            "\n",
            "\n",
            "title                                      It was only a month\n",
            "selftext     It only lasted one month. The week he came was...\n",
            "subreddit                                                Diary\n",
            "Name: 27, dtype: object subreddit                                                 Diary\n",
            "text          it was only a month it only lasted one month. ...\n",
            "token_text    [month, lasted, one, month, week, came, amazin...\n",
            "Name: 27, dtype: object [0.41636446 0.01670696 0.9693011  0.11150336 0.32148558 0.9330654\n",
            " 0.02734162]\n",
            "\n",
            "\n",
            "title                                       first time posting\n",
            "selftext     I've wanted a space to vent and write what I'm...\n",
            "subreddit                                                Diary\n",
            "Name: 28, dtype: object subreddit                                                 Diary\n",
            "text          first time posting i've wanted a space to vent...\n",
            "token_text    [first, time, posting, wanted, space, vent, wr...\n",
            "Name: 28, dtype: object [0.99547476 0.04177932 0.93058956 0.16118659 0.5506303  0.56305724\n",
            " 0.00904206]\n",
            "\n",
            "\n",
            "title                                                  friends\n",
            "selftext     i invited all my \"friends\" and nobody came. th...\n",
            "subreddit                                                Diary\n",
            "Name: 29, dtype: object subreddit                                                 Diary\n",
            "text          friends i invited all my \"friends\" and nobody ...\n",
            "token_text    [friends, invited, friends, nobody, came, excu...\n",
            "Name: 29, dtype: object [0.94828266 0.02798541 0.93943554 0.19992436 0.1608829  0.80506027\n",
            " 0.00887472]\n",
            "\n",
            "\n",
            "title                                                 Art date\n",
            "selftext     Gett used to this dating thing has been hard b...\n",
            "subreddit                                                Diary\n",
            "Name: 30, dtype: object subreddit                                                 Diary\n",
            "text          art date gett used to this dating thing has be...\n",
            "token_text    [art, date, gett, used, dating, thing, hard, r...\n",
            "Name: 30, dtype: object [0.7742611  0.06522627 0.9436402  0.38476852 0.1162692  0.7546075\n",
            " 0.08986382]\n",
            "\n",
            "\n",
            "title                                                Struggles\n",
            "selftext     I am back here because I entertain the pain, i...\n",
            "subreddit                                                Diary\n",
            "Name: 31, dtype: object subreddit                                                 Diary\n",
            "text          struggles i am back here because i entertain t...\n",
            "token_text    [struggles, back, entertain, pain, struggling,...\n",
            "Name: 31, dtype: object [0.6640386  0.01838868 0.9378081  0.6670123  0.5452114  0.86698985\n",
            " 0.02192326]\n",
            "\n",
            "\n",
            "title                                            i am a memory\n",
            "selftext     Today my mom said to her sister that I am gett...\n",
            "subreddit                                                Diary\n",
            "Name: 32, dtype: object subreddit                                                 Diary\n",
            "text          i am a memory today my mom said to her sister ...\n",
            "token_text    [memory, today, mom, said, sister, getting, so...\n",
            "Name: 32, dtype: object [0.77437115 0.02602552 0.89423114 0.22175278 0.90377563 0.68851274\n",
            " 0.03133601]\n",
            "\n",
            "\n",
            "title             I may be a golden retriever in a human body.\n",
            "selftext     While I have very few friends, I've always ben...\n",
            "subreddit                                                Diary\n",
            "Name: 33, dtype: object subreddit                                                 Diary\n",
            "text          i may be a golden retriever in a human body. w...\n",
            "token_text    [may, golden, retriever, human, body, friends,...\n",
            "Name: 33, dtype: object [0.67411536 0.18930551 0.9385508  0.2550449  0.26852384 0.640001\n",
            " 0.01246443]\n",
            "\n",
            "\n",
            "title                                                    Empty\n",
            "selftext     Why is it so hard to avoid the feeling of empt...\n",
            "subreddit                                                Diary\n",
            "Name: 36, dtype: object subreddit                                                 Diary\n",
            "text          empty why is it so hard to avoid the feeling o...\n",
            "token_text    [empty, hard, avoid, feeling, emptiness, lack,...\n",
            "Name: 36, dtype: object [0.78578967 0.01673948 0.99029654 0.05079737 0.42242786 0.8936643\n",
            " 0.0058708 ]\n",
            "\n",
            "\n",
            "title                                                    27/05\n",
            "selftext     Had a productive day after so long ! Feeling h...\n",
            "subreddit                                                Diary\n",
            "Name: 37, dtype: object subreddit                                                 Diary\n",
            "text          27/05 had a productive day after so long ! fee...\n",
            "token_text    [productive, day, long, feeling, happy, could,...\n",
            "Name: 37, dtype: object [0.5512915  0.05713047 0.96402377 0.16088793 0.2028386  0.77742827\n",
            " 0.01317352]\n",
            "\n",
            "\n",
            "title        where you ever able to go back to normal? if y...\n",
            "selftext     Because I don't feel alright I want to be ok b...\n",
            "subreddit                                                Diary\n",
            "Name: 38, dtype: object subreddit                                                 Diary\n",
            "text          where you ever able to go back to normal? if y...\n",
            "token_text    [ever, able, go, back, normal, need, know, ple...\n",
            "Name: 38, dtype: object [0.8114515  0.1721932  0.8909854  0.3067975  0.569851   0.84680927\n",
            " 0.02447084]\n",
            "\n",
            "\n",
            "title                                  Revisiting My Childhood\n",
            "selftext     I've been working 3rd shift and I usually stru...\n",
            "subreddit                                                Diary\n",
            "Name: 39, dtype: object subreddit                                                 Diary\n",
            "text          revisiting my childhood i've been working 3rd ...\n",
            "token_text    [revisiting, childhood, working, shift, usuall...\n",
            "Name: 39, dtype: object [0.8993181  0.00400401 0.8709286  0.12730524 0.88006103 0.38382316\n",
            " 0.16306338]\n",
            "\n",
            "\n",
            "title                                The Cliff and I Look Down\n",
            "selftext     All unholy things disguised as lambs are circl...\n",
            "subreddit                                                Diary\n",
            "Name: 41, dtype: object subreddit                                                 Diary\n",
            "text          the cliff and i look down all unholy things di...\n",
            "token_text    [cliff, look, unholy, things, disguised, lambs...\n",
            "Name: 41, dtype: object [0.21343677 0.01400814 0.9480996  0.03231373 0.13505414 0.9938467\n",
            " 0.03108961]\n",
            "\n",
            "\n",
            "title                 My friend leaving me didn't hurt just me\n",
            "selftext     I went on a field trip my aunt works there she...\n",
            "subreddit                                                Diary\n",
            "Name: 42, dtype: object subreddit                                                 Diary\n",
            "text          my friend leaving me didn't hurt just me i wen...\n",
            "token_text    [friend, leaving, n't, hurt, went, field, trip...\n",
            "Name: 42, dtype: object [0.70265704 0.02610195 0.86211807 0.16652316 0.5894095  0.7640355\n",
            " 0.13887802]\n",
            "\n",
            "\n",
            "title                           hating the fuck out of life rn\n",
            "selftext     My parents really are making my days worse and...\n",
            "subreddit                                                Diary\n",
            "Name: 43, dtype: object subreddit                                                 Diary\n",
            "text          hating the fuck out of life rn my parents real...\n",
            "token_text    [hating, fuck, life, rn, parents, really, maki...\n",
            "Name: 43, dtype: object [0.53634006 0.03489326 0.98964626 0.19565704 0.13775882 0.92876875\n",
            " 0.00507916]\n",
            "\n",
            "\n",
            "title                    Now that I've had time to process it.\n",
            "selftext     I mean, it's fine, right? Like it doesn't real...\n",
            "subreddit                                                Diary\n",
            "Name: 44, dtype: object subreddit                                                 Diary\n",
            "text          now that i've had time to process it. i mean, ...\n",
            "token_text    [time, process, mean, fine, right, like, n't, ...\n",
            "Name: 44, dtype: object [0.875573   0.04113147 0.9406163  0.24017155 0.2646726  0.8273314\n",
            " 0.04758034]\n",
            "\n",
            "\n",
            "title                                             late night 💭\n",
            "selftext     dear diary, \\n\\ni wish i never saved myself fr...\n",
            "subreddit                                                Diary\n",
            "Name: 45, dtype: object subreddit                                                 Diary\n",
            "text          late night  dear diary, \\n\\ni wish i never sav...\n",
            "token_text    [late, night, dear, diary, wish, never, saved,...\n",
            "Name: 45, dtype: object [0.2742322  0.05825306 0.9302292  0.4285383  0.12513149 0.97476035\n",
            " 0.01161024]\n",
            "\n",
            "\n",
            "title                              My first letter to the void\n",
            "selftext     I tell myself every day to care. I just can't....\n",
            "subreddit                                                Diary\n",
            "Name: 47, dtype: object subreddit                                                 Diary\n",
            "text          my first letter to the void i tell myself ever...\n",
            "token_text    [first, letter, void, tell, every, day, care, ...\n",
            "Name: 47, dtype: object [0.7610421  0.0100179  0.9924117  0.09827439 0.3677458  0.88371646\n",
            " 0.01055197]\n",
            "\n",
            "\n",
            "title                            Dear diary, need 6/7 feedback\n",
            "selftext     This is what I'd likely vote /r/Riverside/comm...\n",
            "subreddit                                                Diary\n",
            "Name: 49, dtype: object subreddit                                                 Diary\n",
            "text          dear diary, need 6/7 feedback this is what i'd...\n",
            "token_text    [dear, diary, need, feedback, likely, vote/r/r...\n",
            "Name: 49, dtype: object [0.662389   0.13916366 0.47171214 0.38765603 0.21182466 0.40974358\n",
            " 0.9753925 ]\n",
            "\n",
            "\n",
            "title             Dear diary, need 6/7/22 political feedback..\n",
            "selftext     This is what I'd likely vote https://www.reddi...\n",
            "subreddit                                                Diary\n",
            "Name: 50, dtype: object subreddit                                                 Diary\n",
            "text          dear diary, need 6/7/22 political feedback.. t...\n",
            "token_text    [dear, diary, need, political, feedback, likel...\n",
            "Name: 50, dtype: object [0.6903533  0.09815137 0.485908   0.36129174 0.20360084 0.44205144\n",
            " 0.9790548 ]\n",
            "\n",
            "\n",
            "title                                         Deep dip in mood\n",
            "selftext     Been doing fairly all right the past few weeks...\n",
            "subreddit                                                Diary\n",
            "Name: 51, dtype: object subreddit                                                 Diary\n",
            "text          deep dip in mood been doing fairly all right t...\n",
            "token_text    [deep, dip, mood, fairly, right, past, weeks, ...\n",
            "Name: 51, dtype: object [0.9010437  0.03764865 0.94832706 0.4839382  0.49559876 0.53006446\n",
            " 0.03705927]\n",
            "\n",
            "\n",
            "title                    Sometimes I wish I didn’t know anyone\n",
            "selftext     Sometimes I wish I didn’t know anyone. I wish ...\n",
            "subreddit                                                Diary\n",
            "Name: 52, dtype: object subreddit                                                 Diary\n",
            "text          sometimes i wish i didnt know anyone sometimes...\n",
            "token_text    [sometimes, wish, didnt, know, anyone, sometim...\n",
            "Name: 52, dtype: object [0.6085828  0.01928893 0.95377547 0.13325273 0.44036716 0.9253745\n",
            " 0.01495389]\n",
            "\n",
            "\n",
            "title                                     Real 5/25/22 blanket\n",
            "selftext     I feel sick. I wish it was rainy outside. I wi...\n",
            "subreddit                                                Diary\n",
            "Name: 58, dtype: object subreddit                                                 Diary\n",
            "text          real 5/25/22 blanket i feel sick. i wish it wa...\n",
            "token_text    [real, blanket, feel, sick, wish, rainy, outsi...\n",
            "Name: 58, dtype: object [0.6527053  0.04814984 0.9458421  0.72199637 0.78408724 0.43962064\n",
            " 0.01325775]\n",
            "\n",
            "\n",
            "title                                                     5/24\n",
            "selftext     I feel like crying and screaming and laughing ...\n",
            "subreddit                                                Diary\n",
            "Name: 59, dtype: object subreddit                                                 Diary\n",
            "text          5/24 i feel like crying and screaming and laug...\n",
            "token_text    [feel, like, crying, screaming, laughing, bang...\n",
            "Name: 59, dtype: object [0.7684588  0.14503177 0.9251154  0.27744707 0.5496029  0.5206577\n",
            " 0.00775225]\n",
            "\n",
            "\n",
            "title                                             My Love Life\n",
            "selftext     So I been having a reckless time and don't kno...\n",
            "subreddit                                                Diary\n",
            "Name: 62, dtype: object subreddit                                                 Diary\n",
            "text          my love life so i been having a reckless time ...\n",
            "token_text    [love, life, reckless, time, n't, know, start,...\n",
            "Name: 62, dtype: object [0.8485065  0.0139026  0.97651553 0.15154092 0.31235453 0.8580379\n",
            " 0.02240073]\n",
            "\n",
            "\n",
            "title                         I'm Gonna Be A Marching Band Dad\n",
            "selftext     For the last 14 years, I wanted my daughter to...\n",
            "subreddit                                                Diary\n",
            "Name: 64, dtype: object subreddit                                                 Diary\n",
            "text          i'm gonna be a marching band dad for the last ...\n",
            "token_text    [gon, na, marching, band, dad, last, years, wa...\n",
            "Name: 64, dtype: object [0.6665195  0.12477068 0.77834564 0.15830779 0.46022013 0.47554925\n",
            " 0.79738337]\n",
            "\n",
            "\n",
            "title                                    My heart is so heavy.\n",
            "selftext     I need a Xanax. I want to quit my job. I want ...\n",
            "subreddit                                                Diary\n",
            "Name: 65, dtype: object subreddit                                                 Diary\n",
            "text          my heart is so heavy. i need a xanax. i want t...\n",
            "token_text    [heart, heavy, need, xanax, want, quit, job, w...\n",
            "Name: 65, dtype: object [0.8092152  0.06145987 0.89064544 0.09772624 0.32660624 0.8799629\n",
            " 0.00169459]\n",
            "\n",
            "\n",
            "title             My life &amp; death sentence: Part 4 (Final)\n",
            "selftext     Today is Monday, April 18th, and I'm on my sec...\n",
            "subreddit                                                Diary\n",
            "Name: 66, dtype: object subreddit                                                 Diary\n",
            "text          my life &amp; death sentence: part 4 (final) t...\n",
            "token_text    [life, amp, death, sentence, part, final, toda...\n",
            "Name: 66, dtype: object [0.71051496 0.00645465 0.9439758  0.09016506 0.19576345 0.94197005\n",
            " 0.08862177]\n",
            "\n",
            "\n",
            "title                     My life &amp; death sentence: Part 2\n",
            "selftext     Continuing from the previous entry, on the 15t...\n",
            "subreddit                                                Diary\n",
            "Name: 68, dtype: object subreddit                                                 Diary\n",
            "text          my life &amp; death sentence: part 2 continuin...\n",
            "token_text    [life, amp, death, sentence, part, continuing,...\n",
            "Name: 68, dtype: object [0.6949711  0.01289373 0.9225353  0.1431292  0.20402212 0.9664541\n",
            " 0.05207797]\n",
            "\n",
            "\n",
            "title                     My life &amp; death sentence: Part 1\n",
            "selftext     Today is Sunday on the 17th of April 2022, you...\n",
            "subreddit                                                Diary\n",
            "Name: 69, dtype: object subreddit                                                 Diary\n",
            "text          my life &amp; death sentence: part 1 today is ...\n",
            "token_text    [life, amp, death, sentence, part, today, sund...\n",
            "Name: 69, dtype: object [0.95116794 0.00637321 0.79125243 0.32675657 0.17678982 0.7727157\n",
            " 0.2098763 ]\n",
            "\n",
            "\n",
            "title                                  Moving Forward from You\n",
            "selftext     Things are going a bit better I guess. Been 2 ...\n",
            "subreddit                                                Diary\n",
            "Name: 70, dtype: object subreddit                                                 Diary\n",
            "text          moving forward from you things are going a bit...\n",
            "token_text    [moving, forward, things, going, bit, better, ...\n",
            "Name: 70, dtype: object [0.8398874  0.01392463 0.9725353  0.18480964 0.24722607 0.9035946\n",
            " 0.02800667]\n",
            "\n",
            "\n",
            "title                                                    Tired\n",
            "selftext     Yeah, I'm getting a little tired tbh. I'm star...\n",
            "subreddit                                                Diary\n",
            "Name: 71, dtype: object subreddit                                                 Diary\n",
            "text          tired yeah, i'm getting a little tired tbh. i'...\n",
            "token_text    [tired, yeah, getting, little, tired, tbh, sta...\n",
            "Name: 71, dtype: object [0.46074712 0.04883649 0.91019326 0.32412922 0.25482297 0.944411\n",
            " 0.02766157]\n",
            "\n",
            "\n",
            "title                                                    Tired\n",
            "selftext     Yeah, I'm getting a little tired tbh. I need t...\n",
            "subreddit                                                Diary\n",
            "Name: 72, dtype: object subreddit                                                 Diary\n",
            "text          tired yeah, i'm getting a little tired tbh. i ...\n",
            "token_text    [tired, yeah, getting, little, tired, tbh, nee...\n",
            "Name: 72, dtype: object [0.41215917 0.03853575 0.91439694 0.33199647 0.23069325 0.93472695\n",
            " 0.01980678]\n",
            "\n",
            "\n",
            "title                                                Ever feel\n",
            "selftext     Do you ever feel as if you don’t belong anywhe...\n",
            "subreddit                                                Diary\n",
            "Name: 77, dtype: object subreddit                                                 Diary\n",
            "text          ever feel do you ever feel as if you dont belo...\n",
            "token_text    [ever, feel, ever, feel, dont, belong, anywher...\n",
            "Name: 77, dtype: object [0.6497912  0.05877982 0.9602838  0.2599258  0.44725865 0.7354153\n",
            " 0.01533943]\n",
            "\n",
            "\n",
            "title        I hate being right about everything.\n",
            "selftext       I want to cry. I want to run away.\n",
            "subreddit                                   Diary\n",
            "Name: 79, dtype: object subreddit                                                 Diary\n",
            "text          i hate being right about everything. i want to...\n",
            "token_text    [hate, right, everything, want, cry, want, run...\n",
            "Name: 79, dtype: object [0.5784989  0.09511296 0.9257025  0.35425976 0.24434943 0.8635411\n",
            " 0.0294688 ]\n",
            "\n",
            "\n",
            "title                               5/22 - Emotions and school\n",
            "selftext     I don’t get how other people can manage their ...\n",
            "subreddit                                                Diary\n",
            "Name: 82, dtype: object subreddit                                                 Diary\n",
            "text          5/22 - emotions and school i dont get how othe...\n",
            "token_text    [emotions, school, dont, get, people, manage, ...\n",
            "Name: 82, dtype: object [7.7769440e-01 1.2287857e-02 9.9695671e-01 2.1484950e-01 4.1989046e-01\n",
            " 7.0261860e-01 8.5091946e-04]\n",
            "\n",
            "\n",
            "title                                     im joining the navy!\n",
            "selftext     i made a huge decision. im joining the navy. \\...\n",
            "subreddit                                                Diary\n",
            "Name: 83, dtype: object subreddit                                                 Diary\n",
            "text          im joining the navy! i made a huge decision. i...\n",
            "token_text    [im, joining, navy, made, huge, decision, im, ...\n",
            "Name: 83, dtype: object [0.38667715 0.03621305 0.5585757  0.12588371 0.7677794  0.9013392\n",
            " 0.46450576]\n",
            "\n",
            "\n"
          ]
        }
      ]
    }
  ]
}